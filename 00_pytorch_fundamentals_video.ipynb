{
 "cells": [
  {
   "cell_type": "markdown",
   "id": "e4285123-45f0-4173-b36c-f24dadae4517",
   "metadata": {},
   "source": [
    "## 00. PyTorch Fundamentals \n",
    "\n",
    "Resource notebook: https://www.learnpytorch.io/00_pytorch_fundamentals\n",
    "\n",
    "Questions: https://github.com/mrdbourke/pytorch-deep-learning/discussions\n"
   ]
  },
  {
   "cell_type": "code",
   "execution_count": 2,
   "id": "08781f5d-9813-4231-bbd7-8bd3d6a4d0ba",
   "metadata": {},
   "outputs": [
    {
     "name": "stdout",
     "output_type": "stream",
     "text": [
      "2.5.1\n"
     ]
    }
   ],
   "source": [
    "import torch\n",
    "import pandas as pd\n",
    "import numpy as np\n",
    "import matplotlib.pyplot as plt\n",
    "print(torch.__version__)"
   ]
  },
  {
   "cell_type": "code",
   "execution_count": 3,
   "id": "3db5a563-18cb-4180-b33f-ba4eba3be702",
   "metadata": {},
   "outputs": [
    {
     "data": {
      "text/plain": [
       "tensor(7)"
      ]
     },
     "execution_count": 3,
     "metadata": {},
     "output_type": "execute_result"
    }
   ],
   "source": [
    "scalar = torch.tensor(7)\n",
    "scalar \n",
    "\n"
   ]
  },
  {
   "cell_type": "code",
   "execution_count": 4,
   "id": "27629ae9-53e5-4ae0-b7c6-b110db92ee75",
   "metadata": {},
   "outputs": [
    {
     "data": {
      "text/plain": [
       "0"
      ]
     },
     "execution_count": 4,
     "metadata": {},
     "output_type": "execute_result"
    }
   ],
   "source": [
    "scalar.ndim"
   ]
  },
  {
   "cell_type": "code",
   "execution_count": 5,
   "id": "7d7cb22b-8950-4689-8392-c08ced5aa82e",
   "metadata": {},
   "outputs": [
    {
     "data": {
      "text/plain": [
       "7"
      ]
     },
     "execution_count": 5,
     "metadata": {},
     "output_type": "execute_result"
    }
   ],
   "source": [
    "#Get tensor back as Python int\n",
    "scalar.item()"
   ]
  },
  {
   "cell_type": "code",
   "execution_count": 6,
   "id": "2e143745-52b4-4e9f-a0a6-6202e1770f72",
   "metadata": {},
   "outputs": [
    {
     "data": {
      "text/plain": [
       "tensor([7, 7])"
      ]
     },
     "execution_count": 6,
     "metadata": {},
     "output_type": "execute_result"
    }
   ],
   "source": [
    "#Vectorabs \n",
    "vector = torch.tensor([7,7])\n",
    "vector"
   ]
  },
  {
   "cell_type": "code",
   "execution_count": 7,
   "id": "e61f69e0-da7e-43ba-be0c-e5e5eef909fa",
   "metadata": {},
   "outputs": [
    {
     "data": {
      "text/plain": [
       "1"
      ]
     },
     "execution_count": 7,
     "metadata": {},
     "output_type": "execute_result"
    }
   ],
   "source": [
    "vector.ndim"
   ]
  },
  {
   "cell_type": "code",
   "execution_count": 8,
   "id": "e77a7db0-6444-49eb-93b1-c9289b5cbdab",
   "metadata": {},
   "outputs": [
    {
     "data": {
      "text/plain": [
       "torch.Size([2])"
      ]
     },
     "execution_count": 8,
     "metadata": {},
     "output_type": "execute_result"
    }
   ],
   "source": [
    "vector.shape"
   ]
  },
  {
   "cell_type": "code",
   "execution_count": 9,
   "id": "66511f63-c31c-43e6-9364-f91426fe1ee0",
   "metadata": {},
   "outputs": [
    {
     "data": {
      "text/plain": [
       "tensor([[ 7,  8],\n",
       "        [ 9, 10]])"
      ]
     },
     "execution_count": 9,
     "metadata": {},
     "output_type": "execute_result"
    }
   ],
   "source": [
    "# MATRIX\n",
    "\n",
    "MATRIX = torch.tensor([[7,8],\n",
    "                       [9, 10]])\n",
    "MATRIX"
   ]
  },
  {
   "cell_type": "code",
   "execution_count": 10,
   "id": "65cfba32-d8ed-423c-80af-6bf6de4aec4e",
   "metadata": {},
   "outputs": [
    {
     "data": {
      "text/plain": [
       "2"
      ]
     },
     "execution_count": 10,
     "metadata": {},
     "output_type": "execute_result"
    }
   ],
   "source": [
    "MATRIX.ndim"
   ]
  },
  {
   "cell_type": "code",
   "execution_count": 11,
   "id": "b6e6cb12-9c40-4f15-bdcf-56bd7f8ea666",
   "metadata": {},
   "outputs": [
    {
     "data": {
      "text/plain": [
       "tensor([ 9, 10])"
      ]
     },
     "execution_count": 11,
     "metadata": {},
     "output_type": "execute_result"
    }
   ],
   "source": [
    "MATRIX[1]"
   ]
  },
  {
   "cell_type": "code",
   "execution_count": 12,
   "id": "fdf28401-ffc3-4849-bd33-71031d1788a3",
   "metadata": {},
   "outputs": [
    {
     "data": {
      "text/plain": [
       "torch.Size([2, 2])"
      ]
     },
     "execution_count": 12,
     "metadata": {},
     "output_type": "execute_result"
    }
   ],
   "source": [
    "MATRIX.shape"
   ]
  },
  {
   "cell_type": "code",
   "execution_count": 13,
   "id": "c65696b0-f749-4d67-b401-fe8bd629800a",
   "metadata": {},
   "outputs": [
    {
     "data": {
      "text/plain": [
       "tensor([[[1, 2, 3],\n",
       "         [3, 6, 9],\n",
       "         [2, 4, 5]]])"
      ]
     },
     "execution_count": 13,
     "metadata": {},
     "output_type": "execute_result"
    }
   ],
   "source": [
    "# TENSOR\n",
    "\n",
    "TENSOR = torch.tensor([[[1, 2, 3],\n",
    "                        [3, 6, 9],\n",
    "                        [2, 4, 5]]])\n",
    "\n",
    "TENSOR"
   ]
  },
  {
   "cell_type": "code",
   "execution_count": 14,
   "id": "fbce4cd5-9f1d-45b1-927e-a694dc314455",
   "metadata": {},
   "outputs": [
    {
     "data": {
      "text/plain": [
       "3"
      ]
     },
     "execution_count": 14,
     "metadata": {},
     "output_type": "execute_result"
    }
   ],
   "source": [
    "TENSOR.ndim"
   ]
  },
  {
   "cell_type": "code",
   "execution_count": 15,
   "id": "48c82952-3eed-4671-bcb9-37fe43e21c81",
   "metadata": {},
   "outputs": [
    {
     "data": {
      "text/plain": [
       "torch.Size([1, 3, 3])"
      ]
     },
     "execution_count": 15,
     "metadata": {},
     "output_type": "execute_result"
    }
   ],
   "source": [
    "TENSOR.shape"
   ]
  },
  {
   "cell_type": "code",
   "execution_count": 16,
   "id": "053f2b45-21b0-411c-9e8d-25b3441360c9",
   "metadata": {},
   "outputs": [
    {
     "data": {
      "text/plain": [
       "tensor([[1, 2, 3],\n",
       "        [3, 6, 9],\n",
       "        [2, 4, 5]])"
      ]
     },
     "execution_count": 16,
     "metadata": {},
     "output_type": "execute_result"
    }
   ],
   "source": [
    "TENSOR[0]"
   ]
  },
  {
   "cell_type": "code",
   "execution_count": 17,
   "id": "00c673d4-2ca1-4c66-85c9-167e0a26e9d6",
   "metadata": {},
   "outputs": [
    {
     "data": {
      "text/plain": [
       "tensor([[[[   6,    3,    3],\n",
       "          [   5,    4,   96],\n",
       "          [   7,   11,   49],\n",
       "          [1003,  492,   59]]]])"
      ]
     },
     "execution_count": 17,
     "metadata": {},
     "output_type": "execute_result"
    }
   ],
   "source": [
    "# TENSOR\n",
    "\n",
    "TENSOR = torch.tensor([[[[6, 3, 3],\n",
    "                        [5, 4, 96],\n",
    "                        [7, 11, 49],\n",
    "                       [1003, 492, 59]]]])\n",
    "\n",
    "TENSOR"
   ]
  },
  {
   "cell_type": "code",
   "execution_count": 18,
   "id": "6cf9aee4-8c7a-4326-b525-070f82cf6ee6",
   "metadata": {},
   "outputs": [
    {
     "data": {
      "text/plain": [
       "4"
      ]
     },
     "execution_count": 18,
     "metadata": {},
     "output_type": "execute_result"
    }
   ],
   "source": [
    "TENSOR.ndim"
   ]
  },
  {
   "cell_type": "code",
   "execution_count": 19,
   "id": "9b83efa6-1553-4dc9-9033-501c5416955a",
   "metadata": {},
   "outputs": [
    {
     "data": {
      "text/plain": [
       "torch.Size([1, 1, 4, 3])"
      ]
     },
     "execution_count": 19,
     "metadata": {},
     "output_type": "execute_result"
    }
   ],
   "source": [
    "TENSOR.shape"
   ]
  },
  {
   "cell_type": "code",
   "execution_count": 20,
   "id": "96e930f3-d7d0-4114-be3c-430fff877620",
   "metadata": {},
   "outputs": [
    {
     "data": {
      "text/plain": [
       "tensor([[[   6,    3,    3],\n",
       "         [   5,    4,   96],\n",
       "         [   7,   11,   49],\n",
       "         [1003,  492,   59]]])"
      ]
     },
     "execution_count": 20,
     "metadata": {},
     "output_type": "execute_result"
    }
   ],
   "source": [
    "TENSOR[0]"
   ]
  },
  {
   "cell_type": "code",
   "execution_count": 21,
   "id": "3cb4ab0b-f785-4514-8ebf-3aa7e6fe3bd8",
   "metadata": {},
   "outputs": [],
   "source": [
    "### Random tensors"
   ]
  },
  {
   "cell_type": "code",
   "execution_count": 22,
   "id": "d54e2eeb-ff96-4c87-9a76-cfc99a96e55f",
   "metadata": {},
   "outputs": [
    {
     "data": {
      "text/plain": [
       "tensor([[[2.9681e-01, 3.7824e-01, 7.5060e-01, 5.7776e-01, 5.9049e-01,\n",
       "          2.1011e-01, 1.8256e-01, 2.9057e-01, 5.0011e-01, 5.7068e-01],\n",
       "         [6.6356e-01, 7.8993e-01, 5.3615e-01, 9.0346e-01, 6.1158e-01,\n",
       "          7.7530e-01, 4.8892e-01, 7.3568e-01, 2.8882e-01, 4.2269e-01],\n",
       "         [4.2472e-01, 8.1007e-01, 4.7226e-01, 7.8306e-01, 1.2285e-01,\n",
       "          5.1320e-01, 8.4120e-01, 3.0620e-01, 1.0303e-01, 1.9127e-01],\n",
       "         [7.2199e-02, 9.9753e-01, 1.9257e-01, 3.8502e-01, 1.0987e-01,\n",
       "          1.6107e-01, 3.7690e-01, 9.1022e-01, 5.6416e-01, 4.9653e-01],\n",
       "         [4.9561e-01, 4.1542e-01, 8.3423e-01, 7.7342e-01, 3.3393e-01,\n",
       "          6.4293e-01, 6.3592e-01, 4.7459e-01, 7.4879e-01, 1.0255e-01],\n",
       "         [5.2373e-02, 9.3823e-01, 7.5289e-01, 3.0990e-01, 3.1183e-01,\n",
       "          3.2895e-01, 5.5233e-01, 2.6611e-01, 3.6898e-01, 4.9263e-01],\n",
       "         [9.6727e-01, 6.1808e-01, 5.7834e-01, 2.8392e-01, 4.0646e-01,\n",
       "          5.3517e-01, 5.6876e-01, 5.6903e-01, 1.9537e-01, 9.8558e-01],\n",
       "         [8.2669e-01, 2.4490e-01, 7.4334e-01, 6.3997e-01, 9.7488e-01,\n",
       "          4.4491e-01, 2.0131e-01, 4.2414e-01, 9.5112e-01, 5.4451e-01],\n",
       "         [1.8775e-01, 3.7835e-01, 7.8231e-01, 2.0369e-01, 8.2943e-01,\n",
       "          2.7600e-01, 2.0202e-01, 4.8277e-01, 1.5065e-01, 5.8817e-01],\n",
       "         [8.8623e-01, 5.5830e-01, 9.6938e-01, 9.0069e-01, 3.0361e-01,\n",
       "          8.3338e-01, 2.4855e-05, 8.5515e-01, 5.6364e-01, 6.4413e-01]]])"
      ]
     },
     "execution_count": 22,
     "metadata": {},
     "output_type": "execute_result"
    }
   ],
   "source": [
    "random_tensor = torch.rand(1 , 10, 10)\n",
    "random_tensor"
   ]
  },
  {
   "cell_type": "code",
   "execution_count": 23,
   "id": "a7a82289-b11e-4e08-96d4-de841048b4e5",
   "metadata": {},
   "outputs": [
    {
     "data": {
      "text/plain": [
       "3"
      ]
     },
     "execution_count": 23,
     "metadata": {},
     "output_type": "execute_result"
    }
   ],
   "source": [
    "random_tensor.ndim"
   ]
  },
  {
   "cell_type": "code",
   "execution_count": 24,
   "id": "259d52b5-ea6c-41e6-956a-81feb7ac5ede",
   "metadata": {},
   "outputs": [
    {
     "data": {
      "text/plain": [
       "(torch.Size([224, 224, 3]), 3)"
      ]
     },
     "execution_count": 24,
     "metadata": {},
     "output_type": "execute_result"
    }
   ],
   "source": [
    "random_image_size_tensor = torch.rand(size = (224, 224, 3)) # Height, width, colour channels (R, G, B)%%!\n",
    "random_image_size_tensor.shape, random_image_size_tensor.ndim"
   ]
  },
  {
   "cell_type": "code",
   "execution_count": 25,
   "id": "81cd9c39-dd8f-47a7-8e30-e224ac7b1bc3",
   "metadata": {},
   "outputs": [
    {
     "data": {
      "text/plain": [
       "tensor([[[0.0283, 0.8913, 0.2570, 0.4253, 0.8359, 0.1204, 0.1688, 0.2192,\n",
       "          0.4436, 0.6620],\n",
       "         [0.2011, 0.8951, 0.2580, 0.8230, 0.7577, 0.9454, 0.3903, 0.6840,\n",
       "          0.7803, 0.4868],\n",
       "         [0.0574, 0.9177, 0.0100, 0.8998, 0.5050, 0.8076, 0.0488, 0.9037,\n",
       "          0.5269, 0.5770],\n",
       "         [0.0598, 0.4467, 0.4383, 0.9397, 0.7382, 0.9481, 0.6007, 0.5981,\n",
       "          0.3437, 0.5601],\n",
       "         [0.2312, 0.7702, 0.1370, 0.8892, 0.5327, 0.4009, 0.0293, 0.1850,\n",
       "          0.8922, 0.4495],\n",
       "         [0.7057, 0.1056, 0.4558, 0.1202, 0.6987, 0.9857, 0.6139, 0.3284,\n",
       "          0.9797, 0.9750],\n",
       "         [0.7861, 0.9597, 0.8922, 0.5056, 0.5567, 0.4197, 0.3814, 0.7770,\n",
       "          0.5592, 0.4672],\n",
       "         [0.9870, 0.7346, 0.1363, 0.3478, 0.5815, 0.5246, 0.7284, 0.4804,\n",
       "          0.8864, 0.9251],\n",
       "         [0.9344, 0.3167, 0.0414, 0.0117, 0.2642, 0.3702, 0.9969, 0.7264,\n",
       "          0.0784, 0.4760],\n",
       "         [0.0142, 0.0694, 0.8119, 0.8908, 0.5069, 0.3738, 0.3952, 0.1170,\n",
       "          0.0763, 0.2498]]])"
      ]
     },
     "execution_count": 25,
     "metadata": {},
     "output_type": "execute_result"
    }
   ],
   "source": [
    "random_tensor = torch.rand(1, 10, 10)\n",
    "random_tensor \n"
   ]
  },
  {
   "cell_type": "code",
   "execution_count": 26,
   "id": "ec2b51fe-2b08-4d29-aa22-965062c687ef",
   "metadata": {},
   "outputs": [
    {
     "data": {
      "text/plain": [
       "tensor([[[0.0283, 0.8913, 0.2570, 0.4253, 0.8359, 0.1204, 0.1688, 0.2192,\n",
       "          0.4436, 0.6620],\n",
       "         [0.2011, 0.8951, 0.2580, 0.8230, 0.7577, 0.9454, 0.3903, 0.6840,\n",
       "          0.7803, 0.4868],\n",
       "         [0.0574, 0.9177, 0.0100, 0.8998, 0.5050, 0.8076, 0.0488, 0.9037,\n",
       "          0.5269, 0.5770],\n",
       "         [0.0598, 0.4467, 0.4383, 0.9397, 0.7382, 0.9481, 0.6007, 0.5981,\n",
       "          0.3437, 0.5601],\n",
       "         [0.2312, 0.7702, 0.1370, 0.8892, 0.5327, 0.4009, 0.0293, 0.1850,\n",
       "          0.8922, 0.4495],\n",
       "         [0.7057, 0.1056, 0.4558, 0.1202, 0.6987, 0.9857, 0.6139, 0.3284,\n",
       "          0.9797, 0.9750],\n",
       "         [0.7861, 0.9597, 0.8922, 0.5056, 0.5567, 0.4197, 0.3814, 0.7770,\n",
       "          0.5592, 0.4672],\n",
       "         [0.9870, 0.7346, 0.1363, 0.3478, 0.5815, 0.5246, 0.7284, 0.4804,\n",
       "          0.8864, 0.9251],\n",
       "         [0.9344, 0.3167, 0.0414, 0.0117, 0.2642, 0.3702, 0.9969, 0.7264,\n",
       "          0.0784, 0.4760],\n",
       "         [0.0142, 0.0694, 0.8119, 0.8908, 0.5069, 0.3738, 0.3952, 0.1170,\n",
       "          0.0763, 0.2498]]])"
      ]
     },
     "execution_count": 26,
     "metadata": {},
     "output_type": "execute_result"
    }
   ],
   "source": [
    "random_tensor"
   ]
  },
  {
   "cell_type": "code",
   "execution_count": 27,
   "id": "9c9fc243-73f0-4c3e-8370-a4fb0d77dddc",
   "metadata": {},
   "outputs": [
    {
     "data": {
      "text/plain": [
       "tensor([[0.8304, 0.5296, 0.9672],\n",
       "        [0.7454, 0.9256, 0.9117],\n",
       "        [0.9976, 0.9901, 0.2885]])"
      ]
     },
     "execution_count": 27,
     "metadata": {},
     "output_type": "execute_result"
    }
   ],
   "source": [
    "torch.rand(size = (3, 3))"
   ]
  },
  {
   "cell_type": "code",
   "execution_count": 28,
   "id": "f130089f-ee9e-4040-8229-c5a167118658",
   "metadata": {
    "scrolled": true
   },
   "outputs": [
    {
     "data": {
      "text/plain": [
       "tensor([[1., 1., 1., 1., 1., 1.],\n",
       "        [1., 1., 1., 1., 1., 1.],\n",
       "        [1., 1., 1., 1., 1., 1.],\n",
       "        [1., 1., 1., 1., 1., 1.],\n",
       "        [1., 1., 1., 1., 1., 1.],\n",
       "        [1., 1., 1., 1., 1., 1.],\n",
       "        [1., 1., 1., 1., 1., 1.]])"
      ]
     },
     "execution_count": 28,
     "metadata": {},
     "output_type": "execute_result"
    }
   ],
   "source": [
    "ones = torch.ones(size = (7, 6))\n",
    "ones"
   ]
  },
  {
   "cell_type": "code",
   "execution_count": 29,
   "id": "57f3a1ce-873b-4ee1-a34a-31f8218a38f3",
   "metadata": {},
   "outputs": [],
   "source": [
    "zeros = torch.zeros(size = (35, 3))"
   ]
  },
  {
   "cell_type": "code",
   "execution_count": 30,
   "id": "ff3a1a5c-77ce-4a38-a35d-27cf648200bb",
   "metadata": {},
   "outputs": [
    {
     "data": {
      "text/plain": [
       "tensor([[0., 0., 0.],\n",
       "        [0., 0., 0.],\n",
       "        [0., 0., 0.],\n",
       "        [0., 0., 0.],\n",
       "        [0., 0., 0.],\n",
       "        [0., 0., 0.],\n",
       "        [0., 0., 0.],\n",
       "        [0., 0., 0.],\n",
       "        [0., 0., 0.],\n",
       "        [0., 0., 0.],\n",
       "        [0., 0., 0.],\n",
       "        [0., 0., 0.],\n",
       "        [0., 0., 0.],\n",
       "        [0., 0., 0.],\n",
       "        [0., 0., 0.],\n",
       "        [0., 0., 0.],\n",
       "        [0., 0., 0.],\n",
       "        [0., 0., 0.],\n",
       "        [0., 0., 0.],\n",
       "        [0., 0., 0.],\n",
       "        [0., 0., 0.],\n",
       "        [0., 0., 0.],\n",
       "        [0., 0., 0.],\n",
       "        [0., 0., 0.],\n",
       "        [0., 0., 0.],\n",
       "        [0., 0., 0.],\n",
       "        [0., 0., 0.],\n",
       "        [0., 0., 0.],\n",
       "        [0., 0., 0.],\n",
       "        [0., 0., 0.],\n",
       "        [0., 0., 0.],\n",
       "        [0., 0., 0.],\n",
       "        [0., 0., 0.],\n",
       "        [0., 0., 0.],\n",
       "        [0., 0., 0.]])"
      ]
     },
     "execution_count": 30,
     "metadata": {},
     "output_type": "execute_result"
    }
   ],
   "source": [
    "zeros"
   ]
  },
  {
   "cell_type": "code",
   "execution_count": 31,
   "id": "0e663800-d454-4720-9536-bd0684b8a022",
   "metadata": {},
   "outputs": [
    {
     "data": {
      "text/plain": [
       "torch.float32"
      ]
     },
     "execution_count": 31,
     "metadata": {},
     "output_type": "execute_result"
    }
   ],
   "source": [
    "ones.dtype"
   ]
  },
  {
   "cell_type": "code",
   "execution_count": 32,
   "id": "cee9f001-e1d0-483c-ac5e-0b6d3ffddfa7",
   "metadata": {},
   "outputs": [
    {
     "data": {
      "text/plain": [
       "torch.float32"
      ]
     },
     "execution_count": 32,
     "metadata": {},
     "output_type": "execute_result"
    }
   ],
   "source": [
    "random_tensor.dtype"
   ]
  },
  {
   "cell_type": "code",
   "execution_count": 33,
   "id": "adfdab41-7f06-4a9d-8640-82e76a237c32",
   "metadata": {},
   "outputs": [],
   "source": [
    "### Range of tensors & tensors-like"
   ]
  },
  {
   "cell_type": "code",
   "execution_count": 34,
   "id": "f57b9772-7dc8-44ba-bc89-416719c69ed4",
   "metadata": {},
   "outputs": [
    {
     "name": "stderr",
     "output_type": "stream",
     "text": [
      "C:\\Users\\Smoke Nandos\\AppData\\Local\\Temp\\ipykernel_20196\\1549641488.py:1: UserWarning: torch.range is deprecated and will be removed in a future release because its behavior is inconsistent with Python's range builtin. Instead, use torch.arange, which produces values in [start, end).\n",
      "  torch.range(0, 10)\n"
     ]
    },
    {
     "data": {
      "text/plain": [
       "tensor([ 0.,  1.,  2.,  3.,  4.,  5.,  6.,  7.,  8.,  9., 10.])"
      ]
     },
     "execution_count": 34,
     "metadata": {},
     "output_type": "execute_result"
    }
   ],
   "source": [
    "torch.range(0, 10)"
   ]
  },
  {
   "cell_type": "code",
   "execution_count": 35,
   "id": "58e4a0e8-6706-44a3-a9dc-af12c8cb6a5d",
   "metadata": {},
   "outputs": [
    {
     "data": {
      "text/plain": [
       "tensor([  0,  77, 154, 231, 308, 385, 462, 539, 616, 693, 770, 847, 924])"
      ]
     },
     "execution_count": 35,
     "metadata": {},
     "output_type": "execute_result"
    }
   ],
   "source": [
    "one_to_ten = torch.arange (start = 0, end = 1000, step = 77)\n",
    "one_to_ten"
   ]
  },
  {
   "cell_type": "code",
   "execution_count": 36,
   "id": "b098672f-cbb1-4679-ad95-18a322a580e8",
   "metadata": {},
   "outputs": [],
   "source": [
    "float_32_tensor = torch.tensor([3.0, 6.0, 9.0],\n",
    "                               dtype = None,\n",
    "                              device = None,\n",
    "                              requires_grad = False)\n"
   ]
  },
  {
   "cell_type": "code",
   "execution_count": 37,
   "id": "82933e4e-2ca5-44a6-9e1a-9ecfe2f60f67",
   "metadata": {},
   "outputs": [
    {
     "data": {
      "text/plain": [
       "torch.float32"
      ]
     },
     "execution_count": 37,
     "metadata": {},
     "output_type": "execute_result"
    }
   ],
   "source": [
    "float_32_tensor.dtype"
   ]
  },
  {
   "cell_type": "code",
   "execution_count": 38,
   "id": "bf063d33-b5d6-47bc-8c1e-1070996a3e5a",
   "metadata": {},
   "outputs": [
    {
     "data": {
      "text/plain": [
       "tensor([3., 6., 9.], dtype=torch.float16)"
      ]
     },
     "execution_count": 38,
     "metadata": {},
     "output_type": "execute_result"
    }
   ],
   "source": [
    "float_16_tensor = float_32_tensor.type(torch.float16)\n",
    "float_16_tensor"
   ]
  },
  {
   "cell_type": "code",
   "execution_count": 39,
   "id": "21b46f43-59ce-487d-af93-e9300c1a1489",
   "metadata": {},
   "outputs": [
    {
     "data": {
      "text/plain": [
       "tensor([ 9., 36., 81.])"
      ]
     },
     "execution_count": 39,
     "metadata": {},
     "output_type": "execute_result"
    }
   ],
   "source": [
    "float_16_tensor * float_32_tensor"
   ]
  },
  {
   "cell_type": "code",
   "execution_count": 40,
   "id": "25dd40b4-9be4-416b-8be2-0b44ae6b96ec",
   "metadata": {},
   "outputs": [
    {
     "data": {
      "text/plain": [
       "tensor([3, 6, 9])"
      ]
     },
     "execution_count": 40,
     "metadata": {},
     "output_type": "execute_result"
    }
   ],
   "source": [
    "int_32_tensor = torch.tensor([3, 6, 9], dtype = torch.long)\n",
    "int_32_tensor"
   ]
  },
  {
   "cell_type": "code",
   "execution_count": 41,
   "id": "93f63fde-869f-4014-b156-cd92a4a6d6c3",
   "metadata": {},
   "outputs": [
    {
     "data": {
      "text/plain": [
       "tensor([ 9., 36., 81.])"
      ]
     },
     "execution_count": 41,
     "metadata": {},
     "output_type": "execute_result"
    }
   ],
   "source": [
    "float_32_tensor * int_32_tensor"
   ]
  },
  {
   "cell_type": "code",
   "execution_count": 42,
   "id": "7f03b456-984c-4a31-b3ba-73c1518a7cc2",
   "metadata": {},
   "outputs": [
    {
     "data": {
      "text/plain": [
       "tensor([[0.6535, 0.5993, 0.5420, 0.8875],\n",
       "        [0.8758, 0.3405, 0.7447, 0.7959],\n",
       "        [0.6147, 0.6170, 0.3181, 0.3504]])"
      ]
     },
     "execution_count": 42,
     "metadata": {},
     "output_type": "execute_result"
    }
   ],
   "source": [
    "some_tensor = torch.rand(3, 4)\n",
    "some_tensor"
   ]
  },
  {
   "cell_type": "code",
   "execution_count": 43,
   "id": "3847782b-a6cf-4cb3-b85d-23dfd69c956c",
   "metadata": {},
   "outputs": [
    {
     "data": {
      "text/plain": [
       "(<function Tensor.size>, torch.Size([3, 4]))"
      ]
     },
     "execution_count": 43,
     "metadata": {},
     "output_type": "execute_result"
    }
   ],
   "source": [
    "some_tensor.size, some_tensor.shape"
   ]
  },
  {
   "cell_type": "code",
   "execution_count": 44,
   "id": "740ae49d-5381-4110-94c9-1c27ad3a8d08",
   "metadata": {},
   "outputs": [
    {
     "data": {
      "text/plain": [
       "torch.Size([3, 4])"
      ]
     },
     "execution_count": 44,
     "metadata": {},
     "output_type": "execute_result"
    }
   ],
   "source": [
    "some_tensor.size()"
   ]
  },
  {
   "cell_type": "code",
   "execution_count": 45,
   "id": "02ee8e84-8ece-455a-8eec-f9b90b3f50d1",
   "metadata": {},
   "outputs": [
    {
     "name": "stdout",
     "output_type": "stream",
     "text": [
      "tensor([[0.6535, 0.5993, 0.5420, 0.8875],\n",
      "        [0.8758, 0.3405, 0.7447, 0.7959],\n",
      "        [0.6147, 0.6170, 0.3181, 0.3504]])\n",
      "Datatype of tensor: torch.float32 \n",
      "Shape of tensor: torch.Size([3, 4]) \n",
      "Device tensor is on: cpu \n"
     ]
    }
   ],
   "source": [
    "print(some_tensor)\n",
    "print(f\"Datatype of tensor: {some_tensor.dtype} \")\n",
    "print(f\"Shape of tensor: {some_tensor.shape} \")\n",
    "print(f\"Device tensor is on: {some_tensor.device} \")"
   ]
  },
  {
   "cell_type": "code",
   "execution_count": 46,
   "id": "88f29059-b1a4-4d78-9ab8-8e2f32389d65",
   "metadata": {},
   "outputs": [
    {
     "data": {
      "text/plain": [
       "tensor([[0.6834, 0.9969, 0.2182, 0.3256],\n",
       "        [0.9931, 0.3808, 0.6323, 0.7828],\n",
       "        [0.1824, 0.3304, 0.3675, 0.8745],\n",
       "        [0.5394, 0.3127, 0.6729, 0.3118],\n",
       "        [0.3314, 0.3245, 0.4428, 0.6239],\n",
       "        [0.1731, 0.8277, 0.5208, 0.6195],\n",
       "        [0.0955, 0.5514, 0.8513, 0.9578],\n",
       "        [0.6391, 0.6115, 0.6305, 0.8120],\n",
       "        [0.5186, 0.2336, 0.4066, 0.6900]])"
      ]
     },
     "execution_count": 46,
     "metadata": {},
     "output_type": "execute_result"
    }
   ],
   "source": [
    "some_tensor = torch.rand(9, 4)\n",
    "some_tensor"
   ]
  },
  {
   "cell_type": "code",
   "execution_count": 47,
   "id": "ebef4bca-2264-4e46-9564-4c2a00fc34f8",
   "metadata": {},
   "outputs": [
    {
     "name": "stdout",
     "output_type": "stream",
     "text": [
      "tensor([[0.6836, 0.9971, 0.2183, 0.3257],\n",
      "        [0.9932, 0.3809, 0.6323, 0.7827],\n",
      "        [0.1824, 0.3303, 0.3674, 0.8745],\n",
      "        [0.5396, 0.3127, 0.6729, 0.3118],\n",
      "        [0.3313, 0.3245, 0.4429, 0.6240],\n",
      "        [0.1731, 0.8276, 0.5210, 0.6196],\n",
      "        [0.0955, 0.5513, 0.8511, 0.9580],\n",
      "        [0.6392, 0.6113, 0.6304, 0.8120],\n",
      "        [0.5186, 0.2335, 0.4065, 0.6899]], dtype=torch.float16)\n",
      "Datatype of tensor: torch.float16 \n"
     ]
    }
   ],
   "source": [
    "some_tensor = some_tensor.to(torch.float16)\n",
    "\n",
    "print(some_tensor)\n",
    "print(f\"Datatype of tensor: {some_tensor.dtype} \")\n"
   ]
  },
  {
   "cell_type": "code",
   "execution_count": 48,
   "id": "b5f7658e-6042-4456-8699-6d45cceea581",
   "metadata": {},
   "outputs": [
    {
     "name": "stdout",
     "output_type": "stream",
     "text": [
      "Device tensor is on: cpu\n"
     ]
    }
   ],
   "source": [
    "device = torch.device(\"cuda\" if torch.cuda.is_available() else \"cpu\")\n",
    "some_tensor = some_tensor.to(device)\n",
    "\n",
    "print(f\"Device tensor is on:\", some_tensor.device)"
   ]
  },
  {
   "cell_type": "code",
   "execution_count": 49,
   "id": "5a7a73f8-daa7-49f3-bcd1-ff6a9fe8862e",
   "metadata": {},
   "outputs": [],
   "source": [
    "#### Manipulating Tensors"
   ]
  },
  {
   "cell_type": "code",
   "execution_count": 50,
   "id": "4cf2c8c4-6d8e-422c-92af-314d0daf909b",
   "metadata": {},
   "outputs": [
    {
     "data": {
      "text/plain": [
       "tensor([11, 12, 13])"
      ]
     },
     "execution_count": 50,
     "metadata": {},
     "output_type": "execute_result"
    }
   ],
   "source": [
    "tensor = torch.tensor([1, 2, 3])\n",
    "tensor + 10"
   ]
  },
  {
   "cell_type": "code",
   "execution_count": 51,
   "id": "4a2f9cf9-0dd8-4071-9f81-e40012e15e28",
   "metadata": {},
   "outputs": [],
   "source": [
    "tensor = tensor * 10\n"
   ]
  },
  {
   "cell_type": "code",
   "execution_count": 52,
   "id": "ad4160a4-a3c7-4a07-8a23-a0e1adb74b12",
   "metadata": {},
   "outputs": [
    {
     "data": {
      "text/plain": [
       "tensor([10, 20, 30])"
      ]
     },
     "execution_count": 52,
     "metadata": {},
     "output_type": "execute_result"
    }
   ],
   "source": [
    "tensor"
   ]
  },
  {
   "cell_type": "code",
   "execution_count": 53,
   "id": "a2bcb7d3-46b4-4997-81a6-b7486d7f095c",
   "metadata": {},
   "outputs": [
    {
     "data": {
      "text/plain": [
       "tensor([ 0, 10, 20])"
      ]
     },
     "execution_count": 53,
     "metadata": {},
     "output_type": "execute_result"
    }
   ],
   "source": [
    "tensor - 10"
   ]
  },
  {
   "cell_type": "code",
   "execution_count": 54,
   "id": "f6b03f28-cb0a-4458-bf93-1bdf0941bf5b",
   "metadata": {},
   "outputs": [
    {
     "data": {
      "text/plain": [
       "tensor([100, 200, 300])"
      ]
     },
     "execution_count": 54,
     "metadata": {},
     "output_type": "execute_result"
    }
   ],
   "source": [
    "torch.mul(tensor, 10)"
   ]
  },
  {
   "cell_type": "code",
   "execution_count": 55,
   "id": "63843c61-e4b3-4fd9-a099-7f790d8f210b",
   "metadata": {},
   "outputs": [
    {
     "data": {
      "text/plain": [
       "tensor([20, 30, 40])"
      ]
     },
     "execution_count": 55,
     "metadata": {},
     "output_type": "execute_result"
    }
   ],
   "source": [
    "torch.add(tensor, 10)"
   ]
  },
  {
   "cell_type": "code",
   "execution_count": 56,
   "id": "3a54ce4c-813c-450c-85e7-60b7cc369028",
   "metadata": {},
   "outputs": [],
   "source": [
    "### Matrix multiplication (dot product)\n",
    "\n"
   ]
  },
  {
   "cell_type": "code",
   "execution_count": 57,
   "id": "0cc6d1f4-8dd9-461b-a40a-7cf85ec840b9",
   "metadata": {},
   "outputs": [
    {
     "data": {
      "text/plain": [
       "tensor([10, 20, 30])"
      ]
     },
     "execution_count": 57,
     "metadata": {},
     "output_type": "execute_result"
    }
   ],
   "source": [
    "tensor"
   ]
  },
  {
   "cell_type": "code",
   "execution_count": 58,
   "id": "f5858527-95a1-4361-b3c4-fa8caf6f2bab",
   "metadata": {},
   "outputs": [
    {
     "data": {
      "text/plain": [
       "tensor([1, 2, 3])"
      ]
     },
     "execution_count": 58,
     "metadata": {},
     "output_type": "execute_result"
    }
   ],
   "source": [
    "tensor = torch.tensor([1, 2, 3])\n",
    "tensor"
   ]
  },
  {
   "cell_type": "code",
   "execution_count": 59,
   "id": "c975694b-2681-4e15-9d33-4641131f718b",
   "metadata": {},
   "outputs": [
    {
     "name": "stdout",
     "output_type": "stream",
     "text": [
      "tensor([1, 2, 3]) * tensor([1, 2, 3])\n",
      "Equals: tensor([1, 4, 9]) \n"
     ]
    }
   ],
   "source": [
    "print(tensor, \"*\", tensor)\n",
    "print(f\"Equals: {tensor * tensor} \" )"
   ]
  },
  {
   "cell_type": "code",
   "execution_count": 60,
   "id": "1e474bd2-e7fc-495b-b121-cf67aa9399bd",
   "metadata": {},
   "outputs": [
    {
     "data": {
      "text/plain": [
       "tensor(14)"
      ]
     },
     "execution_count": 60,
     "metadata": {},
     "output_type": "execute_result"
    }
   ],
   "source": [
    "torch.matmul(tensor, tensor)\n"
   ]
  },
  {
   "cell_type": "code",
   "execution_count": 61,
   "id": "632a3df8-15b3-41f0-91b1-c224e2738909",
   "metadata": {},
   "outputs": [
    {
     "data": {
      "text/plain": [
       "tensor([1, 2, 3])"
      ]
     },
     "execution_count": 61,
     "metadata": {},
     "output_type": "execute_result"
    }
   ],
   "source": [
    "tensor"
   ]
  },
  {
   "cell_type": "code",
   "execution_count": 62,
   "id": "bec2993d-f3d4-4b46-b28b-d117b9900f67",
   "metadata": {},
   "outputs": [
    {
     "data": {
      "text/plain": [
       "14"
      ]
     },
     "execution_count": 62,
     "metadata": {},
     "output_type": "execute_result"
    }
   ],
   "source": [
    "1*1 + 2 * 2 + 3 * 3 "
   ]
  },
  {
   "cell_type": "code",
   "execution_count": 63,
   "id": "b980c023-5d4a-4e50-9219-123da98b79ef",
   "metadata": {},
   "outputs": [
    {
     "name": "stdout",
     "output_type": "stream",
     "text": [
      "tensor(14)\n",
      "CPU times: total: 0 ns\n",
      "Wall time: 996 μs\n"
     ]
    }
   ],
   "source": [
    "%%time \n",
    "value = 0\n",
    "for i in range(len(tensor)):\n",
    "    value += tensor[i] * tensor[i]\n",
    "print(value)"
   ]
  },
  {
   "cell_type": "code",
   "execution_count": 64,
   "id": "6b06da5c-9c87-4c1b-a9db-6edaabe42ffa",
   "metadata": {},
   "outputs": [
    {
     "name": "stdout",
     "output_type": "stream",
     "text": [
      "CPU times: total: 0 ns\n",
      "Wall time: 0 ns\n"
     ]
    },
    {
     "data": {
      "text/plain": [
       "tensor(14)"
      ]
     },
     "execution_count": 64,
     "metadata": {},
     "output_type": "execute_result"
    }
   ],
   "source": [
    "%%time\n",
    "torch.matmul(tensor, tensor)"
   ]
  },
  {
   "cell_type": "code",
   "execution_count": 65,
   "id": "e64dd077-bbce-4043-895f-97b9d83990fe",
   "metadata": {},
   "outputs": [
    {
     "name": "stdout",
     "output_type": "stream",
     "text": [
      "Execution time (CPU): 3239.0999840572476 microseconds\n"
     ]
    }
   ],
   "source": [
    "import time\n",
    "import torch\n",
    "\n",
    "tensor = torch.randn(3,3)\n",
    "\n",
    "start = time.perf_counter()\n",
    "result = torch.matmul(tensor, tensor)\n",
    "end = time.perf_counter()\n",
    "\n",
    "print(\"Execution time (CPU):\", (end - start) * 1e6, \"microseconds\")"
   ]
  },
  {
   "cell_type": "code",
   "execution_count": 66,
   "id": "282114b3-5c5f-489f-8a27-7ddc63f2775b",
   "metadata": {},
   "outputs": [
    {
     "data": {
      "text/plain": [
       "tensor([[ 0.3716, -0.3445,  0.5255],\n",
       "        [ 0.2804, -0.7271, -0.0085],\n",
       "        [ 0.7374, -0.1295, -0.1837]])"
      ]
     },
     "execution_count": 66,
     "metadata": {},
     "output_type": "execute_result"
    }
   ],
   "source": [
    "tensor @ tensor"
   ]
  },
  {
   "cell_type": "code",
   "execution_count": 67,
   "id": "da40c6af-bf29-41ee-a612-ac845a81e67d",
   "metadata": {},
   "outputs": [
    {
     "data": {
      "text/plain": [
       "torch.Size([10, 10])"
      ]
     },
     "execution_count": 67,
     "metadata": {},
     "output_type": "execute_result"
    }
   ],
   "source": [
    "torch.matmul(torch.rand(10,10), torch.rand(10,10)).shape"
   ]
  },
  {
   "cell_type": "code",
   "execution_count": 68,
   "id": "e7d1ba76-478b-4d93-b393-48ac57344afe",
   "metadata": {},
   "outputs": [],
   "source": [
    "### Inner dimensions must match."
   ]
  },
  {
   "cell_type": "code",
   "execution_count": 69,
   "id": "ab78944e-74d7-4fae-bf94-09c85e9cc380",
   "metadata": {},
   "outputs": [],
   "source": [
    "### Matrix Multiplication Shapes"
   ]
  },
  {
   "cell_type": "code",
   "execution_count": 70,
   "id": "18c8fc9a-b257-4610-98e7-32241b0529fa",
   "metadata": {},
   "outputs": [
    {
     "ename": "RuntimeError",
     "evalue": "mat1 and mat2 shapes cannot be multiplied (3x2 and 3x2)",
     "output_type": "error",
     "traceback": [
      "\u001b[1;31m---------------------------------------------------------------------------\u001b[0m",
      "\u001b[1;31mRuntimeError\u001b[0m                              Traceback (most recent call last)",
      "Cell \u001b[1;32mIn[70], line 9\u001b[0m\n\u001b[0;32m      1\u001b[0m tensor_A \u001b[38;5;241m=\u001b[39m torch\u001b[38;5;241m.\u001b[39mtensor([[\u001b[38;5;241m1\u001b[39m,\u001b[38;5;241m2\u001b[39m],\n\u001b[0;32m      2\u001b[0m                         [\u001b[38;5;241m3\u001b[39m,\u001b[38;5;241m4\u001b[39m],\n\u001b[0;32m      3\u001b[0m                         [\u001b[38;5;241m5\u001b[39m,\u001b[38;5;241m6\u001b[39m]])\n\u001b[0;32m      5\u001b[0m tensor_B \u001b[38;5;241m=\u001b[39m torch\u001b[38;5;241m.\u001b[39mtensor([[\u001b[38;5;241m7\u001b[39m, \u001b[38;5;241m10\u001b[39m],\n\u001b[0;32m      6\u001b[0m                          [\u001b[38;5;241m8\u001b[39m, \u001b[38;5;241m11\u001b[39m],\n\u001b[0;32m      7\u001b[0m                          [\u001b[38;5;241m9\u001b[39m, \u001b[38;5;241m12\u001b[39m]])\n\u001b[1;32m----> 9\u001b[0m torch\u001b[38;5;241m.\u001b[39mmm(tensor_A, tensor_B)\n",
      "\u001b[1;31mRuntimeError\u001b[0m: mat1 and mat2 shapes cannot be multiplied (3x2 and 3x2)"
     ]
    }
   ],
   "source": [
    "tensor_A = torch.tensor([[1,2],\n",
    "                        [3,4],\n",
    "                        [5,6]])\n",
    "\n",
    "tensor_B = torch.tensor([[7, 10],\n",
    "                         [8, 11],\n",
    "                         [9, 12]])\n",
    "\n",
    "torch.mm(tensor_A, tensor_B) #torch.mm = torch.matmul\n",
    "\n"
   ]
  },
  {
   "cell_type": "code",
   "execution_count": 71,
   "id": "74d5e9b8-5e5a-4417-a73b-e75b739fc114",
   "metadata": {},
   "outputs": [
    {
     "data": {
      "text/plain": [
       "(tensor([[ 7, 10],\n",
       "         [ 8, 11],\n",
       "         [ 9, 12]]),\n",
       " torch.Size([3, 2]))"
      ]
     },
     "execution_count": 71,
     "metadata": {},
     "output_type": "execute_result"
    }
   ],
   "source": [
    "tensor_B, tensor_B.shape"
   ]
  },
  {
   "cell_type": "code",
   "execution_count": 73,
   "id": "31d3852d-e075-4f89-b96c-de3923896bdd",
   "metadata": {},
   "outputs": [
    {
     "data": {
      "text/plain": [
       "(tensor([[ 7,  8,  9],\n",
       "         [10, 11, 12]]),\n",
       " torch.Size([2, 3]))"
      ]
     },
     "execution_count": 73,
     "metadata": {},
     "output_type": "execute_result"
    }
   ],
   "source": [
    "tensor_B.T, tensor_B.T.shape"
   ]
  },
  {
   "cell_type": "code",
   "execution_count": 75,
   "id": "98cdca6b-5431-4d2a-94d0-f1ff4cd8f9de",
   "metadata": {},
   "outputs": [
    {
     "name": "stdout",
     "output_type": "stream",
     "text": [
      "Original shapes: tensor_A = torch.Size([3, 2]), tensor_B = torch.Size([3, 2])\n",
      "New shapes: tensor_A = torch.Size([3, 2]), same shape as above, tensor_B.T = torch.Size([2, 3])\n",
      "Multiplying: torch.Size([3, 2]) @ torch.Size([2, 3]) < - inner dimensions must match\n",
      "Output:\n",
      "\n",
      "tensor([[ 27,  30,  33],\n",
      "        [ 61,  68,  75],\n",
      "        [ 95, 106, 117]])\n",
      "\n",
      "Output shape: torch.Size([3, 3])\n"
     ]
    }
   ],
   "source": [
    "print(f\"Original shapes: tensor_A = {tensor_A.shape}, tensor_B = {tensor_B.shape}\")\n",
    "print(f\"New shapes: tensor_A = {tensor_A.shape}, same shape as above, tensor_B.T = {tensor_B.T.shape}\")\n",
    "print(f\"Multiplying: {tensor_A.shape} @ {tensor_B.T.shape} < - inner dimensions must match\")\n",
    "print(\"Output:\\n\")\n",
    "output = torch.matmul(tensor_A, tensor_B.T)\n",
    "print(output)\n",
    "print(f\"\\nOutput shape: {output.shape}\")\n",
    "\n",
    "\n",
    "\n"
   ]
  },
  {
   "cell_type": "code",
   "execution_count": 76,
   "id": "5faff35b-e948-4f3c-914e-dcf393449e79",
   "metadata": {},
   "outputs": [],
   "source": [
    "###Tensor aggregation"
   ]
  },
  {
   "cell_type": "code",
   "execution_count": 78,
   "id": "f7f76c46-5b4b-45ab-8d2d-816ac82f2fd2",
   "metadata": {},
   "outputs": [
    {
     "data": {
      "text/plain": [
       "(tensor([ 1, 11, 21, 31, 41, 51, 61, 71, 81, 91]), torch.int64)"
      ]
     },
     "execution_count": 78,
     "metadata": {},
     "output_type": "execute_result"
    }
   ],
   "source": [
    "x = torch.arange(1 ,100, 10)\n",
    "\n",
    "x, x.dtype"
   ]
  },
  {
   "cell_type": "code",
   "execution_count": 80,
   "id": "f07dfea7-038f-4f24-bfc8-c28b29f0cdd3",
   "metadata": {},
   "outputs": [
    {
     "data": {
      "text/plain": [
       "(tensor(1), tensor(1))"
      ]
     },
     "execution_count": 80,
     "metadata": {},
     "output_type": "execute_result"
    }
   ],
   "source": [
    "torch.min(x), x.min()"
   ]
  },
  {
   "cell_type": "code",
   "execution_count": 82,
   "id": "d170de14-00ed-4b3f-b2ff-7ffbb830e87d",
   "metadata": {},
   "outputs": [
    {
     "data": {
      "text/plain": [
       "(tensor(91), tensor(91))"
      ]
     },
     "execution_count": 82,
     "metadata": {},
     "output_type": "execute_result"
    }
   ],
   "source": [
    "torch.max(x), x.max()"
   ]
  },
  {
   "cell_type": "code",
   "execution_count": 84,
   "id": "c0c97e95-74fd-4713-8234-a690209fa65b",
   "metadata": {},
   "outputs": [
    {
     "data": {
      "text/plain": [
       "(tensor(46.), tensor(46.))"
      ]
     },
     "execution_count": 84,
     "metadata": {},
     "output_type": "execute_result"
    }
   ],
   "source": [
    "torch.mean(x.type(torch.float32)), x.type(torch.float32).mean()"
   ]
  },
  {
   "cell_type": "code",
   "execution_count": 85,
   "id": "b63d4c1c-e930-4001-9f8f-5a7e43c7624a",
   "metadata": {},
   "outputs": [
    {
     "data": {
      "text/plain": [
       "(tensor(460), tensor(460))"
      ]
     },
     "execution_count": 85,
     "metadata": {},
     "output_type": "execute_result"
    }
   ],
   "source": [
    "torch.sum(x), x.sum()"
   ]
  },
  {
   "cell_type": "code",
   "execution_count": 86,
   "id": "90192ffa-4633-467d-acd9-9f4e482d5952",
   "metadata": {},
   "outputs": [
    {
     "data": {
      "text/plain": [
       "tensor(0)"
      ]
     },
     "execution_count": 86,
     "metadata": {},
     "output_type": "execute_result"
    }
   ],
   "source": [
    "torch.argmin(x)"
   ]
  },
  {
   "cell_type": "code",
   "execution_count": 88,
   "id": "4238e35d-268c-433d-bcc8-4561fb109d13",
   "metadata": {},
   "outputs": [
    {
     "data": {
      "text/plain": [
       "tensor(9)"
      ]
     },
     "execution_count": 88,
     "metadata": {},
     "output_type": "execute_result"
    }
   ],
   "source": [
    "torch.argmax(x)"
   ]
  },
  {
   "cell_type": "code",
   "execution_count": 89,
   "id": "93d9e7ee-eb13-45b9-b984-83da947c8478",
   "metadata": {},
   "outputs": [
    {
     "data": {
      "text/plain": [
       "tensor([ 1, 11, 21, 31, 41, 51, 61, 71, 81, 91])"
      ]
     },
     "execution_count": 89,
     "metadata": {},
     "output_type": "execute_result"
    }
   ],
   "source": [
    "x"
   ]
  },
  {
   "cell_type": "code",
   "execution_count": 90,
   "id": "12b50c2c-c376-4183-aa87-9dbe59b63bd6",
   "metadata": {},
   "outputs": [
    {
     "data": {
      "text/plain": [
       "tensor(0)"
      ]
     },
     "execution_count": 90,
     "metadata": {},
     "output_type": "execute_result"
    }
   ],
   "source": [
    "x.argmin()"
   ]
  },
  {
   "cell_type": "code",
   "execution_count": 94,
   "id": "ff59b0b8-6137-4f23-a5c7-71e6ba629787",
   "metadata": {},
   "outputs": [
    {
     "data": {
      "text/plain": [
       "[0]"
      ]
     },
     "execution_count": 94,
     "metadata": {},
     "output_type": "execute_result"
    }
   ],
   "source": [
    "[0]"
   ]
  },
  {
   "cell_type": "code",
   "execution_count": 95,
   "id": "f7f454f7-2feb-4aba-b185-7a3b27400989",
   "metadata": {},
   "outputs": [
    {
     "data": {
      "text/plain": [
       "tensor(9)"
      ]
     },
     "execution_count": 95,
     "metadata": {},
     "output_type": "execute_result"
    }
   ],
   "source": [
    "x.argmax()"
   ]
  },
  {
   "cell_type": "code",
   "execution_count": 98,
   "id": "d78dc6ef-80b1-4f8e-8b83-ca9dacedcc42",
   "metadata": {},
   "outputs": [
    {
     "data": {
      "text/plain": [
       "tensor(91)"
      ]
     },
     "execution_count": 98,
     "metadata": {},
     "output_type": "execute_result"
    }
   ],
   "source": [
    "x[9]"
   ]
  },
  {
   "cell_type": "code",
   "execution_count": 99,
   "id": "49ccbd75-bbe7-457e-aa70-a5082c14ccec",
   "metadata": {},
   "outputs": [
    {
     "data": {
      "text/plain": [
       "(tensor([1., 2., 3., 4., 5., 6., 7., 8., 9.]), torch.Size([9]))"
      ]
     },
     "execution_count": 99,
     "metadata": {},
     "output_type": "execute_result"
    }
   ],
   "source": [
    "x = torch.arange(1., 10.)\n",
    "x, x.shape"
   ]
  },
  {
   "cell_type": "code",
   "execution_count": 101,
   "id": "ecfea49b-df75-4c10-8674-e6f629212362",
   "metadata": {},
   "outputs": [
    {
     "data": {
      "text/plain": [
       "(tensor([[1., 2., 3., 4., 5., 6., 7., 8., 9.]]), torch.Size([1, 9]))"
      ]
     },
     "execution_count": 101,
     "metadata": {},
     "output_type": "execute_result"
    }
   ],
   "source": [
    "x_reshaped = x.reshape(1, 9)\n",
    "x_reshaped, x_reshaped.shape"
   ]
  },
  {
   "cell_type": "code",
   "execution_count": 102,
   "id": "4580c526-dcff-4d33-9492-8445275fb2e0",
   "metadata": {},
   "outputs": [
    {
     "data": {
      "text/plain": [
       "(tensor([[1., 2., 3., 4., 5., 6., 7., 8., 9.]]), torch.Size([1, 9]))"
      ]
     },
     "execution_count": 102,
     "metadata": {},
     "output_type": "execute_result"
    }
   ],
   "source": [
    "z = x.view(1,9)\n",
    "z, z.shape"
   ]
  },
  {
   "cell_type": "code",
   "execution_count": 103,
   "id": "d7f149f9-ebea-44f1-9a95-4f0bcd4787bf",
   "metadata": {},
   "outputs": [
    {
     "data": {
      "text/plain": [
       "(tensor([[5., 2., 3., 4., 5., 6., 7., 8., 9.]]),\n",
       " tensor([5., 2., 3., 4., 5., 6., 7., 8., 9.]))"
      ]
     },
     "execution_count": 103,
     "metadata": {},
     "output_type": "execute_result"
    }
   ],
   "source": [
    "z[:, 0] = 5\n",
    "z, x"
   ]
  },
  {
   "cell_type": "code",
   "execution_count": 106,
   "id": "a5a153f7-0b71-4185-b6a4-a92abd161fcf",
   "metadata": {},
   "outputs": [
    {
     "data": {
      "text/plain": [
       "tensor([[5., 5., 5., 5.],\n",
       "        [2., 2., 2., 2.],\n",
       "        [3., 3., 3., 3.],\n",
       "        [4., 4., 4., 4.],\n",
       "        [5., 5., 5., 5.],\n",
       "        [6., 6., 6., 6.],\n",
       "        [7., 7., 7., 7.],\n",
       "        [8., 8., 8., 8.],\n",
       "        [9., 9., 9., 9.]])"
      ]
     },
     "execution_count": 106,
     "metadata": {},
     "output_type": "execute_result"
    }
   ],
   "source": [
    "x_stacked = torch.stack([x, x, x, x], dim = -1)\n",
    "x_stacked"
   ]
  },
  {
   "cell_type": "code",
   "execution_count": 107,
   "id": "c9202b62-4627-4e93-9d7f-2b0dc601e39c",
   "metadata": {},
   "outputs": [
    {
     "data": {
      "text/plain": [
       "torch.Size([2, 1, 2, 1, 2])"
      ]
     },
     "execution_count": 107,
     "metadata": {},
     "output_type": "execute_result"
    }
   ],
   "source": [
    "x = torch.zeros(2, 1, 2, 1, 2)\n",
    "x.size()"
   ]
  },
  {
   "cell_type": "code",
   "execution_count": 108,
   "id": "020b5dcf-d331-4844-a86f-63ce6d58ae94",
   "metadata": {},
   "outputs": [
    {
     "data": {
      "text/plain": [
       "torch.Size([2, 2, 2])"
      ]
     },
     "execution_count": 108,
     "metadata": {},
     "output_type": "execute_result"
    }
   ],
   "source": [
    "y = torch.squeeze(x)\n",
    "y.size()"
   ]
  },
  {
   "cell_type": "code",
   "execution_count": 111,
   "id": "7a2f011a-2fdb-46a6-951e-ae8fa9b287b0",
   "metadata": {},
   "outputs": [
    {
     "data": {
      "text/plain": [
       "torch.Size([2, 1, 2, 1, 2])"
      ]
     },
     "execution_count": 111,
     "metadata": {},
     "output_type": "execute_result"
    }
   ],
   "source": [
    "y = torch.squeeze(x, 0)\n",
    "y.size()"
   ]
  },
  {
   "cell_type": "code",
   "execution_count": 112,
   "id": "6ad60ca7-0256-4a00-9280-8f6a8394dae3",
   "metadata": {},
   "outputs": [
    {
     "data": {
      "text/plain": [
       "torch.Size([2, 2, 1, 2])"
      ]
     },
     "execution_count": 112,
     "metadata": {},
     "output_type": "execute_result"
    }
   ],
   "source": [
    "y = torch.squeeze(x, 1)\n",
    "y.size()"
   ]
  },
  {
   "cell_type": "code",
   "execution_count": 113,
   "id": "370730d0-e0cc-4f3a-a8cd-9a9fa5404af2",
   "metadata": {},
   "outputs": [
    {
     "data": {
      "text/plain": [
       "torch.Size([2, 2, 2])"
      ]
     },
     "execution_count": 113,
     "metadata": {},
     "output_type": "execute_result"
    }
   ],
   "source": [
    "y = torch.squeeze(x, (1, 2, 3))\n",
    "y.size()"
   ]
  },
  {
   "cell_type": "code",
   "execution_count": 115,
   "id": "1e926443-c974-4738-b7f2-3f989a41cdbf",
   "metadata": {},
   "outputs": [
    {
     "name": "stdout",
     "output_type": "stream",
     "text": [
      "Previous tensor: tensor([[5., 2., 3., 4., 5., 6., 7., 8., 9.]]) \n",
      "Previous shape: torch.Size([1, 9])\n",
      "\n",
      "New tensor: tensor([5., 2., 3., 4., 5., 6., 7., 8., 9.])\n",
      "New shape: torch.Size([9])\n"
     ]
    }
   ],
   "source": [
    "print(f\"Previous tensor: {x_reshaped} \")\n",
    "print(f\"Previous shape: {x_reshaped.shape}\")\n",
    "\n",
    "x_squeezed = x_reshaped.squeeze()\n",
    "print(f\"\\nNew tensor: {x_squeezed}\")\n",
    "print(f\"New shape: {x_squeezed.shape}\")"
   ]
  },
  {
   "cell_type": "code",
   "execution_count": 118,
   "id": "dd69c4c4-bf30-47c2-8a22-02307c46fa8c",
   "metadata": {},
   "outputs": [
    {
     "name": "stdout",
     "output_type": "stream",
     "text": [
      "Previous target: tensor([5., 2., 3., 4., 5., 6., 7., 8., 9.])\n",
      "Previous shape: torch.Size([9])\n",
      "\n",
      "New tensor: tensor([[5., 2., 3., 4., 5., 6., 7., 8., 9.]])\n",
      "New shape: torch.Size([1, 9])\n"
     ]
    }
   ],
   "source": [
    "print(f\"Previous target: {x_squeezed}\")\n",
    "print(f\"Previous shape: {x_squeezed.shape}\")\n",
    "\n",
    "x_unsqueezed = x_squeezed.unsqueeze(dim = 0)\n",
    "print(f\"\\nNew tensor: {x_unsqueezed}\")\n",
    "print(f\"New shape: {x_unsqueezed.shape}\")"
   ]
  },
  {
   "cell_type": "code",
   "execution_count": 119,
   "id": "c635e455-8176-461d-a3ab-5dc019290654",
   "metadata": {},
   "outputs": [
    {
     "data": {
      "text/plain": [
       "torch.Size([1, 9])"
      ]
     },
     "execution_count": 119,
     "metadata": {},
     "output_type": "execute_result"
    }
   ],
   "source": [
    "x_reshaped.shape"
   ]
  },
  {
   "cell_type": "code",
   "execution_count": 120,
   "id": "38b3d1e6-9e6f-4767-aecd-f197c7ce4240",
   "metadata": {},
   "outputs": [
    {
     "data": {
      "text/plain": [
       "tensor([5., 2., 3., 4., 5., 6., 7., 8., 9.])"
      ]
     },
     "execution_count": 120,
     "metadata": {},
     "output_type": "execute_result"
    }
   ],
   "source": [
    "x_reshaped.squeeze()"
   ]
  },
  {
   "cell_type": "code",
   "execution_count": 123,
   "id": "6b67137a-741f-460e-a8b0-e822dc73f6c5",
   "metadata": {},
   "outputs": [
    {
     "data": {
      "text/plain": [
       "torch.Size([9])"
      ]
     },
     "execution_count": 123,
     "metadata": {},
     "output_type": "execute_result"
    }
   ],
   "source": [
    "x_reshaped.squeeze().shape"
   ]
  },
  {
   "cell_type": "code",
   "execution_count": 124,
   "id": "8918805b-b1db-46c5-896e-8005dca4cc9d",
   "metadata": {},
   "outputs": [
    {
     "name": "stdout",
     "output_type": "stream",
     "text": [
      "Previous shape: torch.Size([224, 224, 3])\n",
      "New shape: torch.Size([3, 224, 224])\n"
     ]
    }
   ],
   "source": [
    "x_original = torch.rand(size = (224, 224, 3)) #Height, width, colour_channels\n",
    "\n",
    "x_permuted = x_original.permute(2, 0, 1) # shift axis 0 to 1, 1 to 2, 2 to 0\n",
    "\n",
    "print(f\"Previous shape: {x_original.shape}\")\n",
    "print(f\"New shape: {x_permuted.shape}\")"
   ]
  },
  {
   "cell_type": "code",
   "execution_count": 126,
   "id": "ec460611-51fd-4900-8d8f-6dbb0a5bdb7f",
   "metadata": {},
   "outputs": [],
   "source": [
    "x_original[0, 0, 0] = 728242"
   ]
  },
  {
   "cell_type": "code",
   "execution_count": 127,
   "id": "c8448155-534a-4b26-a682-5940783e5a7c",
   "metadata": {},
   "outputs": [
    {
     "data": {
      "text/plain": [
       "tensor([[[7.2824e+05, 3.3725e-01, 1.0604e-01,  ..., 4.0825e-01,\n",
       "          2.0156e-01, 5.1031e-01],\n",
       "         [9.7186e-01, 7.8833e-01, 3.6808e-01,  ..., 1.8693e-01,\n",
       "          1.7919e-01, 5.0065e-01],\n",
       "         [3.6313e-01, 5.4469e-02, 8.2807e-02,  ..., 2.0431e-02,\n",
       "          8.6299e-02, 9.5816e-01],\n",
       "         ...,\n",
       "         [3.3934e-01, 6.9910e-01, 8.9543e-01,  ..., 2.7282e-01,\n",
       "          7.2637e-01, 4.9254e-01],\n",
       "         [8.3189e-01, 9.0440e-01, 6.5437e-01,  ..., 3.5149e-01,\n",
       "          3.4256e-01, 4.6439e-01],\n",
       "         [5.9765e-01, 6.6114e-01, 5.3577e-01,  ..., 1.0783e-01,\n",
       "          1.6757e-01, 2.8521e-01]],\n",
       "\n",
       "        [[4.8823e-01, 9.5929e-01, 5.1042e-01,  ..., 2.8372e-01,\n",
       "          9.2941e-01, 2.5464e-01],\n",
       "         [8.4985e-01, 4.0561e-01, 8.1766e-01,  ..., 7.8508e-01,\n",
       "          3.7153e-01, 4.6263e-01],\n",
       "         [6.8227e-01, 7.3577e-01, 9.6593e-01,  ..., 2.0839e-02,\n",
       "          2.7630e-01, 9.1188e-01],\n",
       "         ...,\n",
       "         [4.2911e-01, 8.7075e-01, 5.4287e-01,  ..., 8.2378e-02,\n",
       "          8.0791e-01, 5.8454e-01],\n",
       "         [1.0305e-01, 8.3504e-01, 5.3908e-01,  ..., 1.9499e-02,\n",
       "          7.6713e-01, 2.8825e-01],\n",
       "         [2.0987e-01, 4.3478e-01, 7.1058e-01,  ..., 8.3218e-01,\n",
       "          3.8113e-01, 4.2476e-01]],\n",
       "\n",
       "        [[3.3487e-01, 5.7667e-01, 9.6976e-01,  ..., 8.6378e-02,\n",
       "          3.6764e-01, 6.0158e-01],\n",
       "         [1.1856e-01, 4.5649e-01, 1.0497e-01,  ..., 2.5165e-01,\n",
       "          7.5068e-01, 3.8294e-01],\n",
       "         [1.9032e-02, 7.5291e-01, 5.3281e-01,  ..., 1.4691e-01,\n",
       "          7.5506e-01, 1.9284e-01],\n",
       "         ...,\n",
       "         [9.3438e-01, 3.0343e-01, 2.0839e-02,  ..., 7.8879e-02,\n",
       "          4.3853e-01, 1.4130e-01],\n",
       "         [8.7437e-01, 5.6503e-01, 2.8587e-01,  ..., 6.6563e-01,\n",
       "          4.4489e-01, 9.1169e-01],\n",
       "         [8.0771e-02, 8.5471e-01, 6.0553e-01,  ..., 8.2337e-01,\n",
       "          3.0136e-01, 4.8222e-01]]])"
      ]
     },
     "execution_count": 127,
     "metadata": {},
     "output_type": "execute_result"
    }
   ],
   "source": [
    "x_permuted"
   ]
  },
  {
   "cell_type": "code",
   "execution_count": 128,
   "id": "e77ffdd9-f354-4617-a223-0cbd81fc87b3",
   "metadata": {},
   "outputs": [
    {
     "data": {
      "text/plain": [
       "(tensor(728242.), tensor(728242.))"
      ]
     },
     "execution_count": 128,
     "metadata": {},
     "output_type": "execute_result"
    }
   ],
   "source": [
    "x_original[0, 0, 0], x_permuted[0, 0, 0]\n"
   ]
  },
  {
   "cell_type": "code",
   "execution_count": 130,
   "id": "c492bf5b-8c66-4df0-bfde-074619bf9e99",
   "metadata": {},
   "outputs": [
    {
     "data": {
      "text/plain": [
       "(tensor([[[1, 2, 3],\n",
       "          [4, 5, 6],\n",
       "          [7, 8, 9]]]),\n",
       " torch.Size([1, 3, 3]))"
      ]
     },
     "execution_count": 130,
     "metadata": {},
     "output_type": "execute_result"
    }
   ],
   "source": [
    "x = torch.arange(1, 10).reshape(1, 3, 3)\n",
    "x, x.shape"
   ]
  },
  {
   "cell_type": "code",
   "execution_count": 132,
   "id": "ec5481e5-ce12-4411-921b-49e73282f539",
   "metadata": {},
   "outputs": [
    {
     "name": "stdout",
     "output_type": "stream",
     "text": [
      "tensor([[ 0.8954, -0.5974,  0.0843],\n",
      "        [ 0.7623, -0.2515, -0.7031],\n",
      "        [ 0.2994,  0.4764,  0.3550]]) torch.Size([3, 3])\n"
     ]
    }
   ],
   "source": [
    "print(tensor, tensor.shape)"
   ]
  },
  {
   "cell_type": "code",
   "execution_count": 133,
   "id": "3612360a-0867-4f43-aa9f-1e577cf42acf",
   "metadata": {},
   "outputs": [
    {
     "name": "stdout",
     "output_type": "stream",
     "text": [
      "tensor([[[1, 2, 3],\n",
      "         [4, 5, 6],\n",
      "         [7, 8, 9]]]) torch.Size([1, 3, 3])\n"
     ]
    }
   ],
   "source": [
    "tensor = torch.tensor ([[[1, 2, 3],\n",
    "                        [4, 5, 6],\n",
    "                        [7, 8, 9]]])\n",
    "\n",
    "print(tensor, tensor.shape)"
   ]
  },
  {
   "cell_type": "code",
   "execution_count": 135,
   "id": "47fc20ef-aeef-47e3-859a-1c05705ec39e",
   "metadata": {},
   "outputs": [
    {
     "data": {
      "text/plain": [
       "tensor([[1, 2, 3],\n",
       "        [4, 5, 6],\n",
       "        [7, 8, 9]])"
      ]
     },
     "execution_count": 135,
     "metadata": {},
     "output_type": "execute_result"
    }
   ],
   "source": [
    "x[0]"
   ]
  },
  {
   "cell_type": "code",
   "execution_count": 137,
   "id": "bb18c228-9070-41b4-b26f-e0d0a267e62d",
   "metadata": {},
   "outputs": [
    {
     "data": {
      "text/plain": [
       "tensor([1, 2, 3])"
      ]
     },
     "execution_count": 137,
     "metadata": {},
     "output_type": "execute_result"
    }
   ],
   "source": [
    "x[0, 0]"
   ]
  },
  {
   "cell_type": "code",
   "execution_count": 138,
   "id": "33d616b8-7465-43cc-a45e-1e1506b7687c",
   "metadata": {},
   "outputs": [
    {
     "data": {
      "text/plain": [
       "tensor(5)"
      ]
     },
     "execution_count": 138,
     "metadata": {},
     "output_type": "execute_result"
    }
   ],
   "source": [
    "x[0][1][1]"
   ]
  },
  {
   "cell_type": "code",
   "execution_count": 141,
   "id": "12f863ad-75eb-41d1-9894-76052b0f1fd2",
   "metadata": {},
   "outputs": [
    {
     "data": {
      "text/plain": [
       "tensor([[1, 2, 3]])"
      ]
     },
     "execution_count": 141,
     "metadata": {},
     "output_type": "execute_result"
    }
   ],
   "source": [
    "x[:, 0] ## : - Select all of a target dimension"
   ]
  },
  {
   "cell_type": "code",
   "execution_count": 143,
   "id": "4ed40a59-797b-49ca-82fd-3a988b66c3ad",
   "metadata": {},
   "outputs": [
    {
     "data": {
      "text/plain": [
       "tensor([[3, 6, 9]])"
      ]
     },
     "execution_count": 143,
     "metadata": {},
     "output_type": "execute_result"
    }
   ],
   "source": [
    "# All values of 0th & 1st dimensions. Only index 1 of 2nd dimensions\n",
    "\n",
    "x[:, :, 2]"
   ]
  },
  {
   "cell_type": "code",
   "execution_count": 144,
   "id": "8596ad63-b253-4013-96b3-2ae06e74ae80",
   "metadata": {},
   "outputs": [
    {
     "data": {
      "text/plain": [
       "tensor([5])"
      ]
     },
     "execution_count": 144,
     "metadata": {},
     "output_type": "execute_result"
    }
   ],
   "source": [
    "# All values of 0 dimension but only 1 index value of 1st & 2nd dimensions\n",
    "\n",
    "x[:, 1, 1]"
   ]
  },
  {
   "cell_type": "code",
   "execution_count": 145,
   "id": "fa746237-6614-43e0-ac59-eef524fd41f1",
   "metadata": {},
   "outputs": [
    {
     "data": {
      "text/plain": [
       "tensor([1, 2, 3])"
      ]
     },
     "execution_count": 145,
     "metadata": {},
     "output_type": "execute_result"
    }
   ],
   "source": [
    "# Index 0 of 0th and 1st dimension & all values of 2nd dimension\n",
    "\n",
    "x[0, 0, :]"
   ]
  },
  {
   "cell_type": "code",
   "execution_count": 146,
   "id": "df13aa14-9582-4edc-8aae-7e04d5a69f51",
   "metadata": {},
   "outputs": [
    {
     "data": {
      "text/plain": [
       "tensor(9)"
      ]
     },
     "execution_count": 146,
     "metadata": {},
     "output_type": "execute_result"
    }
   ],
   "source": [
    "# Index on x to return 9\n",
    "\n",
    "x[0, 2, 2]"
   ]
  },
  {
   "cell_type": "code",
   "execution_count": 149,
   "id": "dcd42b78-fb10-4a41-904b-c416b5165ab3",
   "metadata": {},
   "outputs": [
    {
     "data": {
      "text/plain": [
       "tensor([[3, 6, 9]])"
      ]
     },
     "execution_count": 149,
     "metadata": {},
     "output_type": "execute_result"
    }
   ],
   "source": [
    "# Index on x to return 3, 6, 9\n",
    "\n",
    "x[:, :, 2]"
   ]
  },
  {
   "cell_type": "code",
   "execution_count": 150,
   "id": "1c87fc76-4895-4dca-b4b6-6d27aee0f333",
   "metadata": {},
   "outputs": [
    {
     "data": {
      "text/plain": [
       "tensor([[[1, 2, 3],\n",
       "         [4, 5, 6],\n",
       "         [7, 8, 9]]])"
      ]
     },
     "execution_count": 150,
     "metadata": {},
     "output_type": "execute_result"
    }
   ],
   "source": [
    "x"
   ]
  },
  {
   "cell_type": "code",
   "execution_count": 153,
   "id": "8bee7a9d-f89f-4543-baa9-8a451db2487e",
   "metadata": {},
   "outputs": [],
   "source": [
    "#PyTorch tensors & NumPy"
   ]
  },
  {
   "cell_type": "code",
   "execution_count": 155,
   "id": "f5b0f1e6-0ac8-420b-92a6-b28d1ba24813",
   "metadata": {},
   "outputs": [
    {
     "data": {
      "text/plain": [
       "(array([1., 2., 3., 4., 5., 6., 7.]),\n",
       " tensor([1., 2., 3., 4., 5., 6., 7.], dtype=torch.float64))"
      ]
     },
     "execution_count": 155,
     "metadata": {},
     "output_type": "execute_result"
    }
   ],
   "source": [
    "array = np.arange(1.0, 8.0)\n",
    "tensor = torch.from_numpy(array) #When conv from numpy to pytorch, pytorch reflects numpy's default datatype o/ float64 unless specified\n",
    "array, tensor"
   ]
  },
  {
   "cell_type": "code",
   "execution_count": 156,
   "id": "231bc029-fc83-4a86-8f1e-82aed3681b31",
   "metadata": {},
   "outputs": [
    {
     "data": {
      "text/plain": [
       "(array([2., 3., 4., 5., 6., 7., 8.]),\n",
       " tensor([1., 2., 3., 4., 5., 6., 7.], dtype=torch.float64))"
      ]
     },
     "execution_count": 156,
     "metadata": {},
     "output_type": "execute_result"
    }
   ],
   "source": [
    "array = array + 1\n",
    "array, tensor"
   ]
  },
  {
   "cell_type": "code",
   "execution_count": 157,
   "id": "d09df0f1-9976-4abd-9fe9-166fe8de5ee3",
   "metadata": {},
   "outputs": [
    {
     "data": {
      "text/plain": [
       "(tensor([1., 1., 1., 1., 1., 1., 1.]),\n",
       " array([1., 1., 1., 1., 1., 1., 1.], dtype=float32))"
      ]
     },
     "execution_count": 157,
     "metadata": {},
     "output_type": "execute_result"
    }
   ],
   "source": [
    "tensor = torch.ones(7)\n",
    "numpy_tensor = tensor.numpy()\n",
    "tensor, numpy_tensor\n",
    "\n",
    "\n"
   ]
  },
  {
   "cell_type": "code",
   "execution_count": 159,
   "id": "bb73bb4c-8f92-497a-bdde-503db6e70d5e",
   "metadata": {},
   "outputs": [
    {
     "data": {
      "text/plain": [
       "(tensor([2., 2., 2., 2., 2., 2., 2.]),\n",
       " array([1., 1., 1., 1., 1., 1., 1.], dtype=float32))"
      ]
     },
     "execution_count": 159,
     "metadata": {},
     "output_type": "execute_result"
    }
   ],
   "source": [
    "tensor = tensor + 1\n",
    "tensor, numpy_tensor "
   ]
  },
  {
   "cell_type": "code",
   "execution_count": 160,
   "id": "28fd1664-8e61-444f-ad1a-4eae0ed5d7f1",
   "metadata": {},
   "outputs": [
    {
     "name": "stdout",
     "output_type": "stream",
     "text": [
      "99 1978.615654166329\n",
      "199 1314.348815020468\n",
      "299 874.2247559276974\n",
      "399 582.5715178754701\n",
      "499 389.2762272903871\n",
      "599 261.1486479043071\n",
      "699 176.2041617612432\n",
      "799 119.87885149659151\n",
      "899 82.52351165718048\n",
      "999 57.744290910919986\n",
      "1099 41.303833430892205\n",
      "1199 30.39352057268499\n",
      "1299 23.151435355676185\n",
      "1399 18.34304660055681\n",
      "1499 15.149658052144511\n",
      "1599 13.028234998799572\n",
      "1699 11.618512691308863\n",
      "1799 10.681428889387252\n",
      "1899 10.058311264702526\n",
      "1999 9.643818515779083\n",
      "Result: y = 0.010078226899916231 + 0.8303688579157544 x + -0.0017386618426550413 x^2 + -0.0895792038011363 x^3\n"
     ]
    }
   ],
   "source": [
    "import numpy as np \n",
    "import math\n",
    "\n",
    "#Create random input & output dataabs\n",
    "\n",
    "x = np.linspace(-math.pi, math.pi, 2000)\n",
    "y = np.sin(x)\n",
    "\n",
    "a = np.random.randn()\n",
    "b = np.random.randn()\n",
    "c = np.random.randn()\n",
    "d = np.random.randn()\n",
    "\n",
    "learning_rate = 1e-6 #10^6\n",
    "for t in range(2000):\n",
    "    # Forward pass: compute predicted y\n",
    "    # y = a + b x + c x^2 + d x^3\n",
    "    y_pred = a + b * x + c * x ** 2 + d * x ** 3\n",
    "\n",
    "\n",
    "    # Compute and print loss\n",
    "    loss = np.square(y_pred - y).sum()\n",
    "    if t % 100 == 99:\n",
    "        print(t, loss)\n",
    "\n",
    "\n",
    "    # Back prop to compute gradients of a, b, c, d with respect to loss\n",
    "    grad_y_pred = 2.0 * (y_pred - y)\n",
    "    grad_a = grad_y_pred.sum()\n",
    "    grad_b = (grad_y_pred * x).sum()\n",
    "    grad_c = (grad_y_pred * x ** 2).sum()\n",
    "    grad_d = (grad_y_pred * x ** 3).sum()\n",
    "\n",
    "\n",
    "    #Update weights \n",
    "\n",
    "    a -= learning_rate * grad_a\n",
    "    b -= learning_rate * grad_b\n",
    "    c -= learning_rate * grad_c\n",
    "    d -= learning_rate * grad_d \n",
    "\n",
    "print(f'Result: y = {a} + {b} x + {c} x^2 + {d} x^3')\n",
    "    \n"
   ]
  },
  {
   "cell_type": "code",
   "execution_count": 162,
   "id": "1a06d40c-f4e2-4360-8591-f39ab6e8ad9a",
   "metadata": {},
   "outputs": [],
   "source": [
    "## Reproducability (trying to take the random out of random)"
   ]
  },
  {
   "cell_type": "code",
   "execution_count": 164,
   "id": "dbb608ad-291b-44fb-913f-367f3f90e46a",
   "metadata": {},
   "outputs": [
    {
     "data": {
      "text/plain": [
       "tensor([[0.0315, 0.1807, 0.0103],\n",
       "        [0.7322, 0.0879, 0.5684],\n",
       "        [0.1521, 0.9822, 0.3392]])"
      ]
     },
     "execution_count": 164,
     "metadata": {},
     "output_type": "execute_result"
    }
   ],
   "source": [
    "torch.rand(3, 3)"
   ]
  },
  {
   "cell_type": "code",
   "execution_count": 165,
   "id": "1fdb154c-1889-4aff-afd8-718b689d746b",
   "metadata": {},
   "outputs": [
    {
     "name": "stdout",
     "output_type": "stream",
     "text": [
      "tensor([[0.6838, 0.5655, 0.7985, 0.9117],\n",
      "        [0.4717, 0.9577, 0.9576, 0.2834],\n",
      "        [0.4967, 0.7428, 0.3855, 0.7848]])\n",
      "tensor([[0.6514, 0.5152, 0.2990, 0.1312],\n",
      "        [0.3004, 0.0437, 0.9555, 0.3806],\n",
      "        [0.3598, 0.1479, 0.0961, 0.6623]])\n",
      "tensor([[False, False, False, False],\n",
      "        [False, False, False, False],\n",
      "        [False, False, False, False]])\n"
     ]
    }
   ],
   "source": [
    "random_tensor_A = torch.rand(3,4)\n",
    "random_tensor_B = torch.rand(3,4)\n",
    "\n",
    "print(random_tensor_A)\n",
    "print(random_tensor_B)\n",
    "print(random_tensor_A == random_tensor_B)"
   ]
  },
  {
   "cell_type": "code",
   "execution_count": 167,
   "id": "58a3c679-1686-4c58-b01b-6692eabd062e",
   "metadata": {},
   "outputs": [
    {
     "name": "stdout",
     "output_type": "stream",
     "text": [
      "tensor([[0.8823, 0.9150, 0.3829, 0.9593],\n",
      "        [0.3904, 0.6009, 0.2566, 0.7936],\n",
      "        [0.9408, 0.1332, 0.9346, 0.5936]])\n",
      "tensor([[0.8823, 0.9150, 0.3829, 0.9593],\n",
      "        [0.3904, 0.6009, 0.2566, 0.7936],\n",
      "        [0.9408, 0.1332, 0.9346, 0.5936]])\n",
      "tensor([[True, True, True, True],\n",
      "        [True, True, True, True],\n",
      "        [True, True, True, True]])\n"
     ]
    }
   ],
   "source": [
    "RANDOM_SEED = 42\n",
    "torch.manual_seed(RANDOM_SEED)\n",
    "\n",
    "random_tensor_C = torch.rand(3, 4) \n",
    "\n",
    "torch.manual_seed(RANDOM_SEED)\n",
    "random_tensor_D = torch.rand(3, 4)\n",
    "\n",
    "print(random_tensor_C)\n",
    "print(random_tensor_D)\n",
    "print(random_tensor_C == random_tensor_D)\n"
   ]
  },
  {
   "cell_type": "code",
   "execution_count": 205,
   "id": "b4ffed48-32d3-4088-aef9-ce90ea91835c",
   "metadata": {},
   "outputs": [
    {
     "data": {
      "text/plain": [
       "'cpu'"
      ]
     },
     "execution_count": 205,
     "metadata": {},
     "output_type": "execute_result"
    }
   ],
   "source": [
    "device = \"cuda\" if torch.cuda.is_available() else \"cpu\"\n",
    "device "
   ]
  },
  {
   "cell_type": "code",
   "execution_count": null,
   "id": "3ee25802-ed23-4157-aff5-4d25a89a2cff",
   "metadata": {},
   "outputs": [],
   "source": [
    "tensor = torch.tensor([1, 2, 3], device = \"cpu"
   ]
  }
 ],
 "metadata": {
  "kernelspec": {
   "display_name": "Python 3 (ipykernel)",
   "language": "python",
   "name": "python3"
  },
  "language_info": {
   "codemirror_mode": {
    "name": "ipython",
    "version": 3
   },
   "file_extension": ".py",
   "mimetype": "text/x-python",
   "name": "python",
   "nbconvert_exporter": "python",
   "pygments_lexer": "ipython3",
   "version": "3.12.7"
  }
 },
 "nbformat": 4,
 "nbformat_minor": 5
}
