{
  "nbformat": 4,
  "nbformat_minor": 0,
  "metadata": {
    "colab": {
      "provenance": [],
      "gpuType": "T4"
    },
    "kernelspec": {
      "name": "python3",
      "display_name": "Python 3"
    },
    "language_info": {
      "name": "python"
    },
    "accelerator": "GPU"
  },
  "cells": [
    {
      "cell_type": "code",
      "execution_count": 1,
      "metadata": {
        "colab": {
          "base_uri": "https://localhost:8080/"
        },
        "id": "wBQJpzC024Ge",
        "outputId": "70b613fc-72c6-446a-b395-254646b9c16e"
      },
      "outputs": [
        {
          "output_type": "execute_result",
          "data": {
            "text/plain": [
              "{1: 'data (prepare and load)',\n",
              " 2: 'build model',\n",
              " 3: 'fitting the model to data (training) ',\n",
              " 4: 'making predictions & evaluating a model (inference)',\n",
              " 5: 'saving & loading a model',\n",
              " 6: 'putting it all together'}"
            ]
          },
          "metadata": {},
          "execution_count": 1
        }
      ],
      "source": [
        "what_were_covering = {1: \"data (prepare and load)\",\n",
        "                      2: \"build model\",\n",
        "                      3: \"fitting the model to data (training) \",\n",
        "                      4: \"making predictions & evaluating a model (inference)\",\n",
        "                      5: \"saving & loading a model\",\n",
        "                      6: \"putting it all together\" }\n",
        "\n",
        "what_were_covering"
      ]
    },
    {
      "cell_type": "code",
      "source": [
        "import torch\n",
        "from torch import nn ## nn contains all of PyTorch's building blocks for neural networks.\n",
        "import matplotlib.pyplot as plt\n",
        "\n",
        "# Check PyTorch version\n",
        "torch.__version__"
      ],
      "metadata": {
        "colab": {
          "base_uri": "https://localhost:8080/",
          "height": 35
        },
        "id": "Sf-uBeFj3yCx",
        "outputId": "2fd6a5bf-7c4d-4e5b-a018-ac59751ebb66"
      },
      "execution_count": 2,
      "outputs": [
        {
          "output_type": "execute_result",
          "data": {
            "text/plain": [
              "'2.6.0+cu124'"
            ],
            "application/vnd.google.colaboratory.intrinsic+json": {
              "type": "string"
            }
          },
          "metadata": {},
          "execution_count": 2
        }
      ]
    },
    {
      "cell_type": "markdown",
      "source": [
        "## 1. Data (Preparing & Loading)"
      ],
      "metadata": {
        "id": "RM2UFNsBR2v6"
      }
    },
    {
      "cell_type": "markdown",
      "source": [
        "In ML, data can be almost anything eg:\n",
        "\n",
        "* Excel spreadsheet\n",
        "* Images of any kind\n",
        "* Videos\n",
        "* Audio\n",
        "\n",
        "ML:\n",
        "\n",
        "1. Get data into numerical representation\n",
        "2. Build models to learn patterns in that numerical representation\n",
        "\n",
        "Linear Regression Formula:\n",
        "\n",
        "Making a straight line with known **parameters**"
      ],
      "metadata": {
        "id": "7Eql7FMDSSxE"
      }
    },
    {
      "cell_type": "code",
      "source": [
        "#Creating known parameters\n",
        "\n",
        "weight = 0.7\n",
        "bias = 0.3\n",
        "\n",
        "start = 0\n",
        "end = 1\n",
        "step = 0.02\n",
        "X = torch.arange(start, end, step).unsqueeze(dim = 1)\n",
        "y = weight * X + bias\n",
        "\n",
        "X[:10], y[:10]"
      ],
      "metadata": {
        "colab": {
          "base_uri": "https://localhost:8080/"
        },
        "id": "ftJ5ckzBTIq7",
        "outputId": "2ed16b8e-803f-4d7e-f4c3-947eac2aadcd"
      },
      "execution_count": 3,
      "outputs": [
        {
          "output_type": "execute_result",
          "data": {
            "text/plain": [
              "(tensor([[0.0000],\n",
              "         [0.0200],\n",
              "         [0.0400],\n",
              "         [0.0600],\n",
              "         [0.0800],\n",
              "         [0.1000],\n",
              "         [0.1200],\n",
              "         [0.1400],\n",
              "         [0.1600],\n",
              "         [0.1800]]),\n",
              " tensor([[0.3000],\n",
              "         [0.3140],\n",
              "         [0.3280],\n",
              "         [0.3420],\n",
              "         [0.3560],\n",
              "         [0.3700],\n",
              "         [0.3840],\n",
              "         [0.3980],\n",
              "         [0.4120],\n",
              "         [0.4260]]))"
            ]
          },
          "metadata": {},
          "execution_count": 3
        }
      ]
    },
    {
      "cell_type": "code",
      "source": [
        "len(X), len(y)"
      ],
      "metadata": {
        "colab": {
          "base_uri": "https://localhost:8080/"
        },
        "id": "55vNMbfQTJJ9",
        "outputId": "7b058a9d-eb8e-430b-dc3b-1a98e33468a8"
      },
      "execution_count": 4,
      "outputs": [
        {
          "output_type": "execute_result",
          "data": {
            "text/plain": [
              "(50, 50)"
            ]
          },
          "metadata": {},
          "execution_count": 4
        }
      ]
    },
    {
      "cell_type": "markdown",
      "source": [
        "### Splitting data into training & test sets (VERY IMPORTANT)"
      ],
      "metadata": {
        "id": "3un0OumFTJLw"
      }
    },
    {
      "cell_type": "code",
      "source": [
        "#Create train/test split\n",
        "\n",
        "train_split = int(0.8 * len(X))\n",
        "X_train, y_train = X[:train_split], y[:train_split]\n",
        "X_test, y_test = X[train_split:], y[train_split:]\n",
        "\n",
        "len(X_train), len(y_train), len(X_test), len(y_test)"
      ],
      "metadata": {
        "colab": {
          "base_uri": "https://localhost:8080/"
        },
        "id": "fNRwu9ZtWGha",
        "outputId": "fbe2e9c9-b14f-4ff0-e8fb-88c99a5cbdc8"
      },
      "execution_count": 5,
      "outputs": [
        {
          "output_type": "execute_result",
          "data": {
            "text/plain": [
              "(40, 40, 10, 10)"
            ]
          },
          "metadata": {},
          "execution_count": 5
        }
      ]
    },
    {
      "cell_type": "code",
      "source": [
        "def plot_predictions(train_data = X_train,\n",
        "                     train_labels = y_train,\n",
        "                     test_data = X_test,\n",
        "                     test_labels = y_test,\n",
        "                     predictions = None):\n",
        "      \"\"\"\n",
        "      Plots training data, test data & compares predictions.\n",
        "      \"\"\"\n",
        "      plt.figure(figsize = (10, 7))\n",
        "\n",
        "      # Plot training in blue\n",
        "      plt.scatter(train_data, train_labels, c = \"b\", s = 4, label = \"Training data\")\n",
        "\n",
        "      # Plot test data in green\n",
        "\n",
        "      plt.scatter(test_data, test_labels, c = \"g\", s = 4, label = \"Testing data\")\n",
        "\n",
        "      # Are there predictions?\n",
        "      if predictions is not None:\n",
        "        plt.scatter(test_data, predictions, c = \"r\", s = 4, label = \"Predictions\")\n",
        "\n",
        "      plt.legend(prop = {\"size\" : 14});"
      ],
      "metadata": {
        "id": "UZcEM8uhWMD-"
      },
      "execution_count": 6,
      "outputs": []
    },
    {
      "cell_type": "code",
      "source": [
        "plot_predictions();"
      ],
      "metadata": {
        "colab": {
          "base_uri": "https://localhost:8080/",
          "height": 530
        },
        "id": "WMapmOisZ7R0",
        "outputId": "4fbfa4da-585a-46df-b3d1-467665b644f2"
      },
      "execution_count": 7,
      "outputs": [
        {
          "output_type": "display_data",
          "data": {
            "text/plain": [
              "<Figure size 1000x700 with 1 Axes>"
            ],
            "image/png": "[encoded data removed]"
          },
          "metadata": {}
        }
      ]
    },
    {
      "cell_type": "markdown",
      "source": [
        "## Building a PyTorch model\n",
        "\n"
      ],
      "metadata": {
        "id": "Gy2FRldQZ8qg"
      }
    },
    {
      "cell_type": "code",
      "source": [
        "# Create linear regression model class\n",
        "\n",
        "from torch import nn\n",
        "\n",
        "class LinearRegressionModel(nn.Module):\n",
        "  def __init__(self):\n",
        "    super().__init__()\n",
        "    self.weights = nn.Parameter(torch.rand(1,\n",
        "                                           requires_grad = True,\n",
        "                                           dtype = torch.float))\n",
        "\n",
        "    self.bias = nn.Parameter(torch.randn(1,\n",
        "                                         requires_grad = True,\n",
        "                                         dtype = torch.float))\n",
        "\n",
        "  # Forward method to show computation in model.\n",
        "\n",
        "  def forward(self, x: torch.Tensor) -> torch.Tensor:\n",
        "    return self.weights * x + self.bias\n"
      ],
      "metadata": {
        "id": "RJPQ8q9M66W5"
      },
      "execution_count": 8,
      "outputs": []
    },
    {
      "cell_type": "markdown",
      "source": [
        "### PyTorch model building essentials\n",
        "\n",
        "* torch.nn - contains all building blocks for computational graphs (eg: neural networks )\n",
        "* torch.nn.Parameter\n",
        "* torch.nn.Module - Base class for all neural networks\n",
        "* torch.optim - Location for PyTorch Live\n",
        "* def forward() - All nn.module subclasses require you to overwrite forward().\n",
        "\n",
        "\n",
        "\n"
      ],
      "metadata": {
        "id": "bxUR7NaX_K5s"
      }
    },
    {
      "cell_type": "code",
      "source": [
        "# Random seed:\n",
        "import torch\n",
        "from torch import nn\n",
        "\n",
        "torch.manual_seed(42)\n",
        "\n",
        "model_0 = LinearRegressionModel()\n",
        "\n",
        "list(model_0.parameters())"
      ],
      "metadata": {
        "colab": {
          "base_uri": "https://localhost:8080/"
        },
        "id": "0anhe1GaUc3D",
        "outputId": "1dc0b70a-3783-461a-8d54-bae9108d5a9f"
      },
      "execution_count": 9,
      "outputs": [
        {
          "output_type": "execute_result",
          "data": {
            "text/plain": [
              "[Parameter containing:\n",
              " tensor([0.8823], requires_grad=True),\n",
              " Parameter containing:\n",
              " tensor([-0.6382], requires_grad=True)]"
            ]
          },
          "metadata": {},
          "execution_count": 9
        }
      ]
    },
    {
      "cell_type": "code",
      "source": [
        "torch.manual_seed(42)\n",
        "torch.randn(1)"
      ],
      "metadata": {
        "colab": {
          "base_uri": "https://localhost:8080/"
        },
        "id": "FBr9LAUOUdyH",
        "outputId": "e9034285-bd2a-456b-bde8-711925e1aaec"
      },
      "execution_count": 10,
      "outputs": [
        {
          "output_type": "execute_result",
          "data": {
            "text/plain": [
              "tensor([0.3367])"
            ]
          },
          "metadata": {},
          "execution_count": 10
        }
      ]
    },
    {
      "cell_type": "code",
      "source": [
        "# List named parameters\n",
        "\n",
        "model_0.state_dict()"
      ],
      "metadata": {
        "colab": {
          "base_uri": "https://localhost:8080/"
        },
        "id": "1owqK-3hUd4c",
        "outputId": "cab1d8de-1d01-42ff-9721-299c4c5ca6b2"
      },
      "execution_count": 11,
      "outputs": [
        {
          "output_type": "execute_result",
          "data": {
            "text/plain": [
              "OrderedDict([('weights', tensor([0.8823])), ('bias', tensor([-0.6382]))])"
            ]
          },
          "metadata": {},
          "execution_count": 11
        }
      ]
    },
    {
      "cell_type": "code",
      "source": [
        "weight, bias"
      ],
      "metadata": {
        "colab": {
          "base_uri": "https://localhost:8080/"
        },
        "id": "OsuKaxYKUd96",
        "outputId": "eea5c444-f4ad-4413-b891-6c6a485e92c0"
      },
      "execution_count": 12,
      "outputs": [
        {
          "output_type": "execute_result",
          "data": {
            "text/plain": [
              "(0.7, 0.3)"
            ]
          },
          "metadata": {},
          "execution_count": 12
        }
      ]
    },
    {
      "cell_type": "code",
      "source": [
        "X_test, y_test"
      ],
      "metadata": {
        "colab": {
          "base_uri": "https://localhost:8080/"
        },
        "id": "p6JLkDz2LjYW",
        "outputId": "9a26ff6a-54a6-4915-ccb6-f9dba1250149"
      },
      "execution_count": 13,
      "outputs": [
        {
          "output_type": "execute_result",
          "data": {
            "text/plain": [
              "(tensor([[0.8000],\n",
              "         [0.8200],\n",
              "         [0.8400],\n",
              "         [0.8600],\n",
              "         [0.8800],\n",
              "         [0.9000],\n",
              "         [0.9200],\n",
              "         [0.9400],\n",
              "         [0.9600],\n",
              "         [0.9800]]),\n",
              " tensor([[0.8600],\n",
              "         [0.8740],\n",
              "         [0.8880],\n",
              "         [0.9020],\n",
              "         [0.9160],\n",
              "         [0.9300],\n",
              "         [0.9440],\n",
              "         [0.9580],\n",
              "         [0.9720],\n",
              "         [0.9860]]))"
            ]
          },
          "metadata": {},
          "execution_count": 13
        }
      ]
    },
    {
      "cell_type": "code",
      "source": [
        "# Checking our model's predictive power:\n",
        "\n",
        "with torch.inference_mode():\n",
        "  y_preds = model_0(X_test)\n",
        "\n",
        "\n",
        "\n",
        "\n",
        "y_preds\n"
      ],
      "metadata": {
        "colab": {
          "base_uri": "https://localhost:8080/"
        },
        "id": "NlPGt1Z6KnJi",
        "outputId": "22d65e72-56a7-403c-88d0-cebe41d9013a"
      },
      "execution_count": 14,
      "outputs": [
        {
          "output_type": "execute_result",
          "data": {
            "text/plain": [
              "tensor([[0.0677],\n",
              "        [0.0853],\n",
              "        [0.1030],\n",
              "        [0.1206],\n",
              "        [0.1382],\n",
              "        [0.1559],\n",
              "        [0.1735],\n",
              "        [0.1912],\n",
              "        [0.2088],\n",
              "        [0.2265]])"
            ]
          },
          "metadata": {},
          "execution_count": 14
        }
      ]
    },
    {
      "cell_type": "code",
      "source": [
        "y_preds = model_0(X_test)\n",
        "y_preds"
      ],
      "metadata": {
        "colab": {
          "base_uri": "https://localhost:8080/"
        },
        "id": "_d2p-HgYLqvP",
        "outputId": "e84e58e8-7752-4c73-f624-581725ec89c7"
      },
      "execution_count": 15,
      "outputs": [
        {
          "output_type": "execute_result",
          "data": {
            "text/plain": [
              "tensor([[0.0677],\n",
              "        [0.0853],\n",
              "        [0.1030],\n",
              "        [0.1206],\n",
              "        [0.1382],\n",
              "        [0.1559],\n",
              "        [0.1735],\n",
              "        [0.1912],\n",
              "        [0.2088],\n",
              "        [0.2265]], grad_fn=<AddBackward0>)"
            ]
          },
          "metadata": {},
          "execution_count": 15
        }
      ]
    },
    {
      "cell_type": "code",
      "source": [
        "plot_predictions(predictions = y_preds.detach().cpu().numpy())"
      ],
      "metadata": {
        "colab": {
          "base_uri": "https://localhost:8080/",
          "height": 530
        },
        "id": "71lDg0khOmVl",
        "outputId": "5250d3c6-665a-483e-bc7a-13d9c2d3e429"
      },
      "execution_count": 16,
      "outputs": [
        {
          "output_type": "display_data",
          "data": {
            "text/plain": [
              "<Figure size 1000x700 with 1 Axes>"
            ],
            "image/png": "[encoded data removed]"
          },
          "metadata": {}
        }
      ]
    },
    {
      "cell_type": "markdown",
      "source": [
        "### Training model\n",
        "\n",
        "Training model - allowing model to move from an unknown parameters (random) to known parameters.\n"
      ],
      "metadata": {
        "id": "s-9IcjD7Opx-"
      }
    },
    {
      "cell_type": "code",
      "source": [
        "list(model_0.parameters())"
      ],
      "metadata": {
        "id": "MotF1I_OiNfm",
        "colab": {
          "base_uri": "https://localhost:8080/"
        },
        "outputId": "0656583d-60e8-4ce0-e408-779fca3c5a6f"
      },
      "execution_count": 17,
      "outputs": [
        {
          "output_type": "execute_result",
          "data": {
            "text/plain": [
              "[Parameter containing:\n",
              " tensor([0.8823], requires_grad=True),\n",
              " Parameter containing:\n",
              " tensor([-0.6382], requires_grad=True)]"
            ]
          },
          "metadata": {},
          "execution_count": 17
        }
      ]
    },
    {
      "cell_type": "code",
      "source": [
        "# Check model's parameters (a value that the model sets itself)\n",
        "\n",
        "model_0.state_dict()"
      ],
      "metadata": {
        "id": "1hrs9BLCiN6I",
        "colab": {
          "base_uri": "https://localhost:8080/"
        },
        "outputId": "486c9b84-c101-4780-fea6-43289921f911"
      },
      "execution_count": 18,
      "outputs": [
        {
          "output_type": "execute_result",
          "data": {
            "text/plain": [
              "OrderedDict([('weights', tensor([0.8823])), ('bias', tensor([-0.6382]))])"
            ]
          },
          "metadata": {},
          "execution_count": 18
        }
      ]
    },
    {
      "cell_type": "code",
      "source": [
        "# Setup loss function\n",
        "\n",
        "loss_fn = nn.L1Loss()\n",
        "\n",
        "optimizer = torch.optim.SGD(params = model_0.parameters(),\n",
        "                            lr = 0.1) # lr = learning rate"
      ],
      "metadata": {
        "id": "xNoINFHvjTNq"
      },
      "execution_count": 19,
      "outputs": []
    },
    {
      "cell_type": "code",
      "source": [
        "with torch.no_grad():\n",
        "  list(model_0.parameters())"
      ],
      "metadata": {
        "id": "mb7aEoCz9R3w"
      },
      "execution_count": 20,
      "outputs": []
    },
    {
      "cell_type": "code",
      "source": [
        "list(model_0.parameters())"
      ],
      "metadata": {
        "id": "ZA2OKv2g1-V9",
        "colab": {
          "base_uri": "https://localhost:8080/"
        },
        "outputId": "52cb2c4f-3676-4e4e-b56b-e23593deb84a"
      },
      "execution_count": 21,
      "outputs": [
        {
          "output_type": "execute_result",
          "data": {
            "text/plain": [
              "[Parameter containing:\n",
              " tensor([0.8823], requires_grad=True),\n",
              " Parameter containing:\n",
              " tensor([-0.6382], requires_grad=True)]"
            ]
          },
          "metadata": {},
          "execution_count": 21
        }
      ]
    },
    {
      "cell_type": "code",
      "source": [
        "torch.manual_seed(42)\n",
        "\n",
        "epochs = 200\n",
        "\n",
        "# Track different values\n",
        "epoch_count = []\n",
        "loss_values = []\n",
        "test_loss_values = []\n",
        "\n",
        "for epoch in range(epochs):\n",
        "\n",
        "  model_0.train()\n",
        "\n",
        "  #1) Forward pass\n",
        "  y_pred =  model_0(X_train)\n",
        "\n",
        "  loss = loss_fn(y_pred, y_train)\n",
        "\n",
        "\n",
        "  optimizer.zero_grad()\n",
        "\n",
        "  loss.backward()\n",
        "\n",
        "  optimizer.step() # How the optimizer changes will accumate through the loop.\n",
        "\n",
        "\n",
        "  # Testing\n",
        "  model_0.eval() # turns off different settings in the model not needed for evaluation/testing (droupout/batch norm layers)\n",
        "  with torch.inference_mode(): # turns off gradient tracking.\n",
        "  # with torch.no_grad(): Slower way of torch.inference_mode()\n",
        "\n",
        "    test_pred = model_0(X_test)\n",
        "\n",
        "    test_loss = loss_fn(test_pred, y_test)\n",
        "\n",
        "  if epoch % 10 == 0:\n",
        "\n",
        "    epoch_count.append(epoch)\n",
        "    loss_values.append(loss)\n",
        "    test_loss_values.append(test_loss)\n",
        "\n",
        "    print(f\"Epoch: {epoch} | Loss: {loss} | Test loss: {test_loss}\")\n",
        "\n",
        "    print(f\"Epoch {epoch}: Train loss = {loss:.4f}, Test loss = {test_loss:.4f}\")\n",
        "\n",
        "\n",
        "\n",
        "\n",
        "\n",
        "\n",
        "\n",
        "    print(model_0.state_dict())\n"
      ],
      "metadata": {
        "id": "Tdqi22ak1-1Q",
        "colab": {
          "base_uri": "https://localhost:8080/"
        },
        "outputId": "6481f4b7-4e39-442e-a02c-b6639cba7485"
      },
      "execution_count": 22,
      "outputs": [
        {
          "output_type": "stream",
          "name": "stdout",
          "text": [
            "Epoch: 0 | Loss: 0.8670692443847656 | Test loss: 0.6412245631217957\n",
            "Epoch 0: Train loss = 0.8671, Test loss = 0.6412\n",
            "OrderedDict([('weights', tensor([0.9213])), ('bias', tensor([-0.5382]))])\n",
            "Epoch: 10 | Loss: 0.08487670868635178 | Test loss: 0.19306938350200653\n",
            "Epoch 10: Train loss = 0.0849, Test loss = 0.1931\n",
            "OrderedDict([('weights', tensor([1.1059])), ('bias', tensor([0.1318]))])\n",
            "Epoch: 20 | Loss: 0.050566136837005615 | Test loss: 0.1103452667593956\n",
            "Epoch 20: Train loss = 0.0506, Test loss = 0.1103\n",
            "OrderedDict([('weights', tensor([0.9343])), ('bias', tensor([0.2018]))])\n",
            "Epoch: 30 | Loss: 0.016618765890598297 | Test loss: 0.048851221799850464\n",
            "Epoch 30: Train loss = 0.0166, Test loss = 0.0489\n",
            "OrderedDict([('weights', tensor([0.7697])), ('bias', tensor([0.2868]))])\n",
            "Epoch: 40 | Loss: 0.049438267946243286 | Test loss: 0.10285623371601105\n",
            "Epoch 40: Train loss = 0.0494, Test loss = 0.1029\n",
            "OrderedDict([('weights', tensor([0.7742])), ('bias', tensor([0.3368]))])\n",
            "Epoch: 50 | Loss: 0.049438267946243286 | Test loss: 0.10285623371601105\n",
            "Epoch 50: Train loss = 0.0494, Test loss = 0.1029\n",
            "OrderedDict([('weights', tensor([0.7742])), ('bias', tensor([0.3368]))])\n",
            "Epoch: 60 | Loss: 0.049438267946243286 | Test loss: 0.10285623371601105\n",
            "Epoch 60: Train loss = 0.0494, Test loss = 0.1029\n",
            "OrderedDict([('weights', tensor([0.7742])), ('bias', tensor([0.3368]))])\n",
            "Epoch: 70 | Loss: 0.049438267946243286 | Test loss: 0.10285623371601105\n",
            "Epoch 70: Train loss = 0.0494, Test loss = 0.1029\n",
            "OrderedDict([('weights', tensor([0.7742])), ('bias', tensor([0.3368]))])\n",
            "Epoch: 80 | Loss: 0.049438267946243286 | Test loss: 0.10285623371601105\n",
            "Epoch 80: Train loss = 0.0494, Test loss = 0.1029\n",
            "OrderedDict([('weights', tensor([0.7742])), ('bias', tensor([0.3368]))])\n",
            "Epoch: 90 | Loss: 0.049438267946243286 | Test loss: 0.10285623371601105\n",
            "Epoch 90: Train loss = 0.0494, Test loss = 0.1029\n",
            "OrderedDict([('weights', tensor([0.7742])), ('bias', tensor([0.3368]))])\n",
            "Epoch: 100 | Loss: 0.049438267946243286 | Test loss: 0.10285623371601105\n",
            "Epoch 100: Train loss = 0.0494, Test loss = 0.1029\n",
            "OrderedDict([('weights', tensor([0.7742])), ('bias', tensor([0.3368]))])\n",
            "Epoch: 110 | Loss: 0.049438267946243286 | Test loss: 0.10285623371601105\n",
            "Epoch 110: Train loss = 0.0494, Test loss = 0.1029\n",
            "OrderedDict([('weights', tensor([0.7742])), ('bias', tensor([0.3368]))])\n",
            "Epoch: 120 | Loss: 0.049438267946243286 | Test loss: 0.10285623371601105\n",
            "Epoch 120: Train loss = 0.0494, Test loss = 0.1029\n",
            "OrderedDict([('weights', tensor([0.7742])), ('bias', tensor([0.3368]))])\n",
            "Epoch: 130 | Loss: 0.049438267946243286 | Test loss: 0.10285623371601105\n",
            "Epoch 130: Train loss = 0.0494, Test loss = 0.1029\n",
            "OrderedDict([('weights', tensor([0.7742])), ('bias', tensor([0.3368]))])\n",
            "Epoch: 140 | Loss: 0.049438267946243286 | Test loss: 0.10285623371601105\n",
            "Epoch 140: Train loss = 0.0494, Test loss = 0.1029\n",
            "OrderedDict([('weights', tensor([0.7742])), ('bias', tensor([0.3368]))])\n",
            "Epoch: 150 | Loss: 0.049438267946243286 | Test loss: 0.10285623371601105\n",
            "Epoch 150: Train loss = 0.0494, Test loss = 0.1029\n",
            "OrderedDict([('weights', tensor([0.7742])), ('bias', tensor([0.3368]))])\n",
            "Epoch: 160 | Loss: 0.049438267946243286 | Test loss: 0.10285623371601105\n",
            "Epoch 160: Train loss = 0.0494, Test loss = 0.1029\n",
            "OrderedDict([('weights', tensor([0.7742])), ('bias', tensor([0.3368]))])\n",
            "Epoch: 170 | Loss: 0.049438267946243286 | Test loss: 0.10285623371601105\n",
            "Epoch 170: Train loss = 0.0494, Test loss = 0.1029\n",
            "OrderedDict([('weights', tensor([0.7742])), ('bias', tensor([0.3368]))])\n",
            "Epoch: 180 | Loss: 0.049438267946243286 | Test loss: 0.10285623371601105\n",
            "Epoch 180: Train loss = 0.0494, Test loss = 0.1029\n",
            "OrderedDict([('weights', tensor([0.7742])), ('bias', tensor([0.3368]))])\n",
            "Epoch: 190 | Loss: 0.049438267946243286 | Test loss: 0.10285623371601105\n",
            "Epoch 190: Train loss = 0.0494, Test loss = 0.1029\n",
            "OrderedDict([('weights', tensor([0.7742])), ('bias', tensor([0.3368]))])\n"
          ]
        }
      ]
    },
    {
      "cell_type": "code",
      "source": [
        "import numpy as np\n",
        "np.array(torch.tensor(loss_values).numpy()), test_loss_values"
      ],
      "metadata": {
        "colab": {
          "base_uri": "https://localhost:8080/"
        },
        "id": "Ttr2X2QBAyxF",
        "outputId": "41f0b88b-12a8-4b46-8d34-500e31b3262a"
      },
      "execution_count": 23,
      "outputs": [
        {
          "output_type": "execute_result",
          "data": {
            "text/plain": [
              "(array([0.86706924, 0.08487671, 0.05056614, 0.01661877, 0.04943827,\n",
              "        0.04943827, 0.04943827, 0.04943827, 0.04943827, 0.04943827,\n",
              "        0.04943827, 0.04943827, 0.04943827, 0.04943827, 0.04943827,\n",
              "        0.04943827, 0.04943827, 0.04943827, 0.04943827, 0.04943827],\n",
              "       dtype=float32),\n",
              " [tensor(0.6412),\n",
              "  tensor(0.1931),\n",
              "  tensor(0.1103),\n",
              "  tensor(0.0489),\n",
              "  tensor(0.1029),\n",
              "  tensor(0.1029),\n",
              "  tensor(0.1029),\n",
              "  tensor(0.1029),\n",
              "  tensor(0.1029),\n",
              "  tensor(0.1029),\n",
              "  tensor(0.1029),\n",
              "  tensor(0.1029),\n",
              "  tensor(0.1029),\n",
              "  tensor(0.1029),\n",
              "  tensor(0.1029),\n",
              "  tensor(0.1029),\n",
              "  tensor(0.1029),\n",
              "  tensor(0.1029),\n",
              "  tensor(0.1029),\n",
              "  tensor(0.1029)])"
            ]
          },
          "metadata": {},
          "execution_count": 23
        }
      ]
    },
    {
      "cell_type": "code",
      "source": [
        "# Plot loss curves\n",
        "\n",
        "plt.plot(epoch_count, np.array(torch.tensor(loss_values).cpu().numpy()), label = \"Train loss\")\n",
        "plt.plot(epoch_count, test_loss_values, label = \"Test loss\")\n",
        "plt.title(\"Training & test loss curves\")\n",
        "plt.ylabel(\"Loss\")\n",
        "plt.xlabel(\"Epochs\")\n",
        "plt.legend();\n"
      ],
      "metadata": {
        "colab": {
          "base_uri": "https://localhost:8080/",
          "height": 472
        },
        "id": "DxtAMyyUAC8U",
        "outputId": "f36d920c-8c01-421b-d9cd-e1f1d26e59b5"
      },
      "execution_count": 24,
      "outputs": [
        {
          "output_type": "display_data",
          "data": {
            "text/plain": [
              "<Figure size 640x480 with 1 Axes>"
            ],
            "image/png": "[encoded data removed]"
          },
          "metadata": {}
        }
      ]
    },
    {
      "cell_type": "code",
      "source": [
        "with torch.inference_mode():\n",
        "  y_preds_new = model_0(X_test)"
      ],
      "metadata": {
        "id": "KI9Kq_T34h8-"
      },
      "execution_count": 25,
      "outputs": []
    },
    {
      "cell_type": "code",
      "source": [
        "model_0.state_dict()"
      ],
      "metadata": {
        "id": "rd53Kx6XVolC",
        "colab": {
          "base_uri": "https://localhost:8080/"
        },
        "outputId": "7dbefd7c-54dc-487b-b81f-ff27353dbd4b"
      },
      "execution_count": 26,
      "outputs": [
        {
          "output_type": "execute_result",
          "data": {
            "text/plain": [
              "OrderedDict([('weights', tensor([0.7352])), ('bias', tensor([0.2368]))])"
            ]
          },
          "metadata": {},
          "execution_count": 26
        }
      ]
    },
    {
      "cell_type": "code",
      "source": [
        "weight, bias"
      ],
      "metadata": {
        "colab": {
          "base_uri": "https://localhost:8080/"
        },
        "id": "fPqgyNXM3y3o",
        "outputId": "ee948ece-6458-47ac-9f10-3f97ba716003"
      },
      "execution_count": 27,
      "outputs": [
        {
          "output_type": "execute_result",
          "data": {
            "text/plain": [
              "(0.7, 0.3)"
            ]
          },
          "metadata": {},
          "execution_count": 27
        }
      ]
    },
    {
      "cell_type": "code",
      "source": [
        "plot_predictions(predictions = y_preds.detach().cpu().numpy())"
      ],
      "metadata": {
        "colab": {
          "base_uri": "https://localhost:8080/",
          "height": 530
        },
        "id": "23HsYyaX5y3U",
        "outputId": "eeb8ba1c-eb0e-44f3-a4e1-bf6fe4aeef4e"
      },
      "execution_count": 28,
      "outputs": [
        {
          "output_type": "display_data",
          "data": {
            "text/plain": [
              "<Figure size 1000x700 with 1 Axes>"
            ],
            "image/png": "[encoded data removed]"
          },
          "metadata": {}
        }
      ]
    },
    {
      "cell_type": "code",
      "source": [
        "plot_predictions(predictions = y_preds_new)"
      ],
      "metadata": {
        "colab": {
          "base_uri": "https://localhost:8080/",
          "height": 530
        },
        "id": "G1LkLCjU4dEs",
        "outputId": "78725cd4-1a13-4c72-ff48-407e8c445e0a"
      },
      "execution_count": 29,
      "outputs": [
        {
          "output_type": "display_data",
          "data": {
            "text/plain": [
              "<Figure size 1000x700 with 1 Axes>"
            ],
            "image/png": "[encoded data removed]"
          },
          "metadata": {}
        }
      ]
    },
    {
      "cell_type": "markdown",
      "source": [
        "## Saving a model\n",
        "\n",
        "3 main methods:\n",
        "\n",
        "torch.save() - Save PyTorch objects in pickle format.\n",
        "\n",
        "torch.load() - Load a saved PyTorch object\n",
        "\n",
        "torch.nn.Module.load_state_dict() - Load model's saved state dictionary\n"
      ],
      "metadata": {
        "id": "P9hpBSauXN38"
      }
    },
    {
      "cell_type": "code",
      "source": [
        "# Save PyTorch model\n",
        "\n",
        "from pathlib import Path\n",
        "\n",
        "MODEL_PATH = Path(\"models\")\n",
        "MODEL_PATH.mkdir(parents = True, exist_ok = True)\n",
        "\n",
        "MODEL_NAME = \"01_pytorch_workflow_model_0.pth\"\n",
        "MODEL_SAVE_PATH = MODEL_PATH / MODEL_NAME\n",
        "\n",
        "MODEL_SAVE_PATH\n",
        "\n",
        "print(f\"Saving model to : {MODEL_SAVE_PATH}\")\n",
        "torch.save(obj = model_0.state_dict(),\n",
        "           f = MODEL_SAVE_PATH)\n"
      ],
      "metadata": {
        "colab": {
          "base_uri": "https://localhost:8080/"
        },
        "id": "mhVTgnvcXJ3w",
        "outputId": "4da86a43-90b0-48eb-dd20-0f03758ee497"
      },
      "execution_count": 30,
      "outputs": [
        {
          "output_type": "stream",
          "name": "stdout",
          "text": [
            "Saving model to : models/01_pytorch_workflow_model_0.pth\n"
          ]
        }
      ]
    },
    {
      "cell_type": "code",
      "source": [
        "!ls -l models"
      ],
      "metadata": {
        "colab": {
          "base_uri": "https://localhost:8080/"
        },
        "id": "NSr6AgwHX6ev",
        "outputId": "c13ac129-77bd-4541-cb2c-614d3ae648c3"
      },
      "execution_count": 31,
      "outputs": [
        {
          "output_type": "stream",
          "name": "stdout",
          "text": [
            "total 4\n",
            "-rw-r--r-- 1 root root 1680 May 24 23:27 01_pytorch_workflow_model_0.pth\n"
          ]
        }
      ]
    },
    {
      "cell_type": "code",
      "source": [
        "## Loading PyTorch\n",
        "\n",
        "loaded_model_0 = LinearRegressionModel()\n",
        "\n",
        "loaded_model_0.load_state_dict(torch.load(f = MODEL_SAVE_PATH))"
      ],
      "metadata": {
        "colab": {
          "base_uri": "https://localhost:8080/"
        },
        "id": "Q1MNrmFrahtm",
        "outputId": "e6ae530e-ee61-4e2d-a0bc-6c1e7e85c204"
      },
      "execution_count": 32,
      "outputs": [
        {
          "output_type": "execute_result",
          "data": {
            "text/plain": [
              "<All keys matched successfully>"
            ]
          },
          "metadata": {},
          "execution_count": 32
        }
      ]
    },
    {
      "cell_type": "code",
      "source": [
        "loaded_model_0.state_dict()"
      ],
      "metadata": {
        "colab": {
          "base_uri": "https://localhost:8080/"
        },
        "id": "PpS3DyCVcP1x",
        "outputId": "1007c184-3040-4b77-f433-a8e0cb2c3d27"
      },
      "execution_count": 33,
      "outputs": [
        {
          "output_type": "execute_result",
          "data": {
            "text/plain": [
              "OrderedDict([('weights', tensor([0.7352])), ('bias', tensor([0.2368]))])"
            ]
          },
          "metadata": {},
          "execution_count": 33
        }
      ]
    },
    {
      "cell_type": "code",
      "source": [
        "loaded_model_0.eval()\n",
        "with torch.inference_mode():\n",
        "  loaded_model_preds = loaded_model_0(X_test)\n",
        "\n",
        "loaded_model_preds"
      ],
      "metadata": {
        "colab": {
          "base_uri": "https://localhost:8080/"
        },
        "id": "ugoWzcXzcR6s",
        "outputId": "2f90e65a-2764-4650-b4bb-822d354b916c"
      },
      "execution_count": 34,
      "outputs": [
        {
          "output_type": "execute_result",
          "data": {
            "text/plain": [
              "tensor([[0.8250],\n",
              "        [0.8397],\n",
              "        [0.8544],\n",
              "        [0.8691],\n",
              "        [0.8838],\n",
              "        [0.8985],\n",
              "        [0.9132],\n",
              "        [0.9279],\n",
              "        [0.9426],\n",
              "        [0.9573]])"
            ]
          },
          "metadata": {},
          "execution_count": 34
        }
      ]
    },
    {
      "cell_type": "code",
      "source": [
        "y_preds == loaded_model_preds"
      ],
      "metadata": {
        "colab": {
          "base_uri": "https://localhost:8080/"
        },
        "id": "AYGaamFedeaB",
        "outputId": "3a779f44-daea-4cfe-98de-566a7303cfe3"
      },
      "execution_count": 35,
      "outputs": [
        {
          "output_type": "execute_result",
          "data": {
            "text/plain": [
              "tensor([[False],\n",
              "        [False],\n",
              "        [False],\n",
              "        [False],\n",
              "        [False],\n",
              "        [False],\n",
              "        [False],\n",
              "        [False],\n",
              "        [False],\n",
              "        [False]])"
            ]
          },
          "metadata": {},
          "execution_count": 35
        }
      ]
    },
    {
      "cell_type": "code",
      "source": [
        "y_preds"
      ],
      "metadata": {
        "colab": {
          "base_uri": "https://localhost:8080/"
        },
        "id": "vPRUrQeLdpWl",
        "outputId": "b99266f9-69b1-417a-e90a-69c0de507dae"
      },
      "execution_count": 36,
      "outputs": [
        {
          "output_type": "execute_result",
          "data": {
            "text/plain": [
              "tensor([[0.0677],\n",
              "        [0.0853],\n",
              "        [0.1030],\n",
              "        [0.1206],\n",
              "        [0.1382],\n",
              "        [0.1559],\n",
              "        [0.1735],\n",
              "        [0.1912],\n",
              "        [0.2088],\n",
              "        [0.2265]], grad_fn=<AddBackward0>)"
            ]
          },
          "metadata": {},
          "execution_count": 36
        }
      ]
    },
    {
      "cell_type": "code",
      "source": [
        "model_0.eval()\n",
        "with torch.inference_mode():\n",
        "  y_preds = model_0(X_test)\n",
        "\n",
        "y_preds"
      ],
      "metadata": {
        "id": "TacgXJr6dqaE",
        "colab": {
          "base_uri": "https://localhost:8080/"
        },
        "outputId": "f35b25df-2f0d-4e6f-81f5-7b8ee72c4f8c"
      },
      "execution_count": 37,
      "outputs": [
        {
          "output_type": "execute_result",
          "data": {
            "text/plain": [
              "tensor([[0.8250],\n",
              "        [0.8397],\n",
              "        [0.8544],\n",
              "        [0.8691],\n",
              "        [0.8838],\n",
              "        [0.8985],\n",
              "        [0.9132],\n",
              "        [0.9279],\n",
              "        [0.9426],\n",
              "        [0.9573]])"
            ]
          },
          "metadata": {},
          "execution_count": 37
        }
      ]
    },
    {
      "cell_type": "markdown",
      "source": [
        "Putting it all together:"
      ],
      "metadata": {
        "id": "PdNiZfs3t2OU"
      }
    },
    {
      "cell_type": "code",
      "source": [
        "import torch\n",
        "from torch import nn\n",
        "import matplotlib.pyplot as plt\n",
        "\n",
        "# Check PyTorch version:\n",
        "\n",
        "torch.__version__\n"
      ],
      "metadata": {
        "id": "QWH3l8xBxQHa",
        "colab": {
          "base_uri": "https://localhost:8080/",
          "height": 35
        },
        "outputId": "2fb1325c-7cf8-4cdb-f21e-ca10f2128592"
      },
      "execution_count": 38,
      "outputs": [
        {
          "output_type": "execute_result",
          "data": {
            "text/plain": [
              "'2.6.0+cu124'"
            ],
            "application/vnd.google.colaboratory.intrinsic+json": {
              "type": "string"
            }
          },
          "metadata": {},
          "execution_count": 38
        }
      ]
    },
    {
      "cell_type": "markdown",
      "source": [
        "Create Device-Agnostic Code\n",
        "\n",
        "If there is access to a GPU, our code will use it for potentially faster computing.\n",
        "\n",
        "If there isn't a GPU available, code will default to using CPU.\n"
      ],
      "metadata": {
        "id": "HQLvUWgDuHfM"
      }
    },
    {
      "cell_type": "code",
      "source": [
        "# Setup device agnostic code\n",
        "\n",
        "device = \"cuda\" if torch.cuda.is_available() else \"cpu\"\n",
        "print(f\"Using device: {device}\")"
      ],
      "metadata": {
        "colab": {
          "base_uri": "https://localhost:8080/"
        },
        "id": "8CFws5C3t-mX",
        "outputId": "82a7bdb0-3c6d-4fe5-af47-15bf1a7a33d0"
      },
      "execution_count": 39,
      "outputs": [
        {
          "output_type": "stream",
          "name": "stdout",
          "text": [
            "Using device: cpu\n"
          ]
        }
      ]
    },
    {
      "cell_type": "code",
      "source": [
        "!nvidia-smi"
      ],
      "metadata": {
        "colab": {
          "base_uri": "https://localhost:8080/"
        },
        "id": "J5g-dqpcucIs",
        "outputId": "d0a93010-e1ea-45f2-afa2-72efe4bdd663"
      },
      "execution_count": 40,
      "outputs": [
        {
          "output_type": "stream",
          "name": "stdout",
          "text": [
            "/bin/bash: line 1: nvidia-smi: command not found\n"
          ]
        }
      ]
    },
    {
      "cell_type": "markdown",
      "source": [
        "# 6.1 Data"
      ],
      "metadata": {
        "id": "lPK9V0tAu_4b"
      }
    },
    {
      "cell_type": "code",
      "source": [
        "# Create data using linear regression formula y = weight * X + bias (y = mx + c)\n",
        "\n",
        "weight = 0.7\n",
        "bias = 0.3\n",
        "\n",
        "# Create range values\n",
        "\n",
        "start = 0\n",
        "end = 1\n",
        "step = 0.02\n",
        "\n",
        "# Create X & y (features & labels)\n",
        "\n",
        "X = torch.arange(start, end, step).unsqueeze(dim = 1) # without unsqueeze, errors pop up\n",
        "y = weight * X + bias\n",
        "X[:10], y[:10]"
      ],
      "metadata": {
        "colab": {
          "base_uri": "https://localhost:8080/"
        },
        "id": "cK7gGURJvAqz",
        "outputId": "3219c1bd-82b9-4aea-b770-ef50430c775f"
      },
      "execution_count": 41,
      "outputs": [
        {
          "output_type": "execute_result",
          "data": {
            "text/plain": [
              "(tensor([[0.0000],\n",
              "         [0.0200],\n",
              "         [0.0400],\n",
              "         [0.0600],\n",
              "         [0.0800],\n",
              "         [0.1000],\n",
              "         [0.1200],\n",
              "         [0.1400],\n",
              "         [0.1600],\n",
              "         [0.1800]]),\n",
              " tensor([[0.3000],\n",
              "         [0.3140],\n",
              "         [0.3280],\n",
              "         [0.3420],\n",
              "         [0.3560],\n",
              "         [0.3700],\n",
              "         [0.3840],\n",
              "         [0.3980],\n",
              "         [0.4120],\n",
              "         [0.4260]]))"
            ]
          },
          "metadata": {},
          "execution_count": 41
        }
      ]
    },
    {
      "cell_type": "code",
      "source": [
        "# Split data\n",
        "\n",
        "train_split = int(0.8 * len(X))\n",
        "X_train, y_train = X[:train_split], y[:train_split]\n",
        "X_test, y_test = X[train_split:], y[train_split:]\n",
        "len(X_train), len(y_train), len(X_test), len(y_test)"
      ],
      "metadata": {
        "colab": {
          "base_uri": "https://localhost:8080/"
        },
        "id": "zjkzjfBgvkV8",
        "outputId": "4aaf8038-15e7-472c-b804-e778e935dc46"
      },
      "execution_count": 42,
      "outputs": [
        {
          "output_type": "execute_result",
          "data": {
            "text/plain": [
              "(40, 40, 10, 10)"
            ]
          },
          "metadata": {},
          "execution_count": 42
        }
      ]
    },
    {
      "cell_type": "code",
      "source": [
        "# Plot the data\n",
        "# Note: If plot_predictions() function not loaded, error will occur.\n",
        "\n",
        "plot_predictions(X_train, y_train, X_test, y_test)"
      ],
      "metadata": {
        "colab": {
          "base_uri": "https://localhost:8080/",
          "height": 530
        },
        "id": "fyxWUoKov4yZ",
        "outputId": "e26e0d84-dba9-4ea6-eca4-17ac64acf2cc"
      },
      "execution_count": 43,
      "outputs": [
        {
          "output_type": "display_data",
          "data": {
            "text/plain": [
              "<Figure size 1000x700 with 1 Axes>"
            ],
            "image/png": "[encoded data removed]"
          },
          "metadata": {}
        }
      ]
    },
    {
      "cell_type": "markdown",
      "source": [
        "## Building a PyTorch Linear Model"
      ],
      "metadata": {
        "id": "dY_kBTJ0wWgI"
      }
    },
    {
      "cell_type": "code",
      "source": [
        "# Create linear model by subclassing nn.Module\n",
        "\n",
        "class LinearRegressionModelV2(nn.Module):\n",
        "  def __init__(self):\n",
        "    super().__init__()\n",
        "    # Use nn.Linear() for creating the model parameters / linear transform, probing layer, fully connected layer, dense layer\n",
        "    self.linear_layer = nn.Linear(in_features = 1,\n",
        "                                  out_features = 1)\n",
        "\n",
        "  def forward(self, x: torch.Tensor) -> torch.Tensor:\n",
        "    return self.linear_layer(x)\n",
        "\n",
        "  # Set manual seed\n",
        "\n",
        "torch.manual_seed(42)\n",
        "model_1 = LinearRegressionModelV2()\n",
        "model_1, model_1.state_dict()"
      ],
      "metadata": {
        "colab": {
          "base_uri": "https://localhost:8080/"
        },
        "id": "7eY4LwISwYQK",
        "outputId": "09ee9445-8c6f-410a-85c8-29500580dec7"
      },
      "execution_count": 44,
      "outputs": [
        {
          "output_type": "execute_result",
          "data": {
            "text/plain": [
              "(LinearRegressionModelV2(\n",
              "   (linear_layer): Linear(in_features=1, out_features=1, bias=True)\n",
              " ),\n",
              " OrderedDict([('linear_layer.weight', tensor([[0.7645]])),\n",
              "              ('linear_layer.bias', tensor([0.8300]))]))"
            ]
          },
          "metadata": {},
          "execution_count": 44
        }
      ]
    },
    {
      "cell_type": "code",
      "source": [
        "X_train[:5], y_train[:5]"
      ],
      "metadata": {
        "colab": {
          "base_uri": "https://localhost:8080/"
        },
        "id": "TPCrcrhbxG_u",
        "outputId": "6e2ecff2-a2dc-48a3-eaba-7e2552b880a6"
      },
      "execution_count": 45,
      "outputs": [
        {
          "output_type": "execute_result",
          "data": {
            "text/plain": [
              "(tensor([[0.0000],\n",
              "         [0.0200],\n",
              "         [0.0400],\n",
              "         [0.0600],\n",
              "         [0.0800]]),\n",
              " tensor([[0.3000],\n",
              "         [0.3140],\n",
              "         [0.3280],\n",
              "         [0.3420],\n",
              "         [0.3560]]))"
            ]
          },
          "metadata": {},
          "execution_count": 45
        }
      ]
    },
    {
      "cell_type": "code",
      "source": [
        "# Check model current device\n",
        "next(model_1.parameters()).device"
      ],
      "metadata": {
        "colab": {
          "base_uri": "https://localhost:8080/"
        },
        "id": "SGQ09-9D0M4X",
        "outputId": "9c7085c0-ef77-4e28-f435-f79a6a2fe6c1"
      },
      "execution_count": 46,
      "outputs": [
        {
          "output_type": "execute_result",
          "data": {
            "text/plain": [
              "device(type='cpu')"
            ]
          },
          "metadata": {},
          "execution_count": 46
        }
      ]
    },
    {
      "cell_type": "code",
      "source": [
        "# Set model to use the target device\n",
        "\n",
        "model_1.to(device)\n",
        "next(model_1.parameters()).device"
      ],
      "metadata": {
        "colab": {
          "base_uri": "https://localhost:8080/"
        },
        "id": "U9_c4SBuxH04",
        "outputId": "9ca33013-7a23-4fe5-a101-13691f0a1757"
      },
      "execution_count": 47,
      "outputs": [
        {
          "output_type": "execute_result",
          "data": {
            "text/plain": [
              "device(type='cpu')"
            ]
          },
          "metadata": {},
          "execution_count": 47
        }
      ]
    },
    {
      "cell_type": "markdown",
      "source": [
        "###6.3 Training\n",
        "\n",
        "For training we need:\n",
        "* Loss function\n",
        "* Optimizer\n",
        "* Training loop\n",
        "* Test loop"
      ],
      "metadata": {
        "id": "vjn4_SxB0vUZ"
      }
    },
    {
      "cell_type": "code",
      "source": [
        "# Setup loss function\n",
        "loss_fn = nn.L1Loss() # same as MAE\n",
        "\n",
        "# Setup optimizer\n",
        "optimizer = torch.optim.SGD(params = model_1.parameters(),\n",
        "                            lr = 0.01, )\n"
      ],
      "metadata": {
        "id": "Ke1AxaVe0whJ"
      },
      "execution_count": 48,
      "outputs": []
    },
    {
      "cell_type": "code",
      "source": [
        "# Training loop:\n",
        "\n",
        "torch.manual_seed(42)\n",
        "\n",
        "epochs = 200\n",
        "\n",
        "# Put data on the target device (device agnostic code for data)\n",
        "X_train = X_train.to(device)\n",
        "y_train = y_train.to(device)\n",
        "X_test = X_test.to(device)\n",
        "y_test = y_test.to(device)\n",
        "\n",
        "for epoch in range (epochs):\n",
        "  model_1.train()\n",
        "\n",
        "  # 1. Forward pass\n",
        "  y_pred = model_1(X_train)\n",
        "\n",
        "  # 2. Calculate loss\n",
        "  loss = loss_fn(y_pred, y_train)\n",
        "\n",
        "  # 3. Optimizer zero grad\n",
        "  optimizer.zero_grad()\n",
        "\n",
        "  # 4. Perform backpropagation\n",
        "  loss.backward()\n",
        "\n",
        "  # 5. Optimizer step\n",
        "  optimizer.step()\n",
        "\n",
        "  ### Testing\n",
        "  model_1.eval()\n",
        "  with torch.inference_mode():\n",
        "    test_pred = model_1(X_test)\n",
        "\n",
        "    test_loss = loss_fn(test_pred, y_test)\n",
        "\n",
        "  # Print out what's happening\n",
        "\n",
        "  if epoch % 10 == 0:\n",
        "    print(f\"Epoch: {epoch} | Loss: {loss} | Test loss: {test_loss}\")"
      ],
      "metadata": {
        "colab": {
          "base_uri": "https://localhost:8080/"
        },
        "id": "okMMWFKK1UBH",
        "outputId": "aea97fd2-c4cf-4eb9-f509-76864f8a42fe"
      },
      "execution_count": 49,
      "outputs": [
        {
          "output_type": "stream",
          "name": "stdout",
          "text": [
            "Epoch: 0 | Loss: 0.5551779866218567 | Test loss: 0.5739762187004089\n",
            "Epoch: 10 | Loss: 0.4399680495262146 | Test loss: 0.4392663538455963\n",
            "Epoch: 20 | Loss: 0.3247582018375397 | Test loss: 0.30455657839775085\n",
            "Epoch: 30 | Loss: 0.20954827964305878 | Test loss: 0.16984674334526062\n",
            "Epoch: 40 | Loss: 0.09433844685554504 | Test loss: 0.03513689711689949\n",
            "Epoch: 50 | Loss: 0.023886386305093765 | Test loss: 0.04784906655550003\n",
            "Epoch: 60 | Loss: 0.0199567973613739 | Test loss: 0.04580312222242355\n",
            "Epoch: 70 | Loss: 0.016517987474799156 | Test loss: 0.0375305712223053\n",
            "Epoch: 80 | Loss: 0.013089170679450035 | Test loss: 0.029944902285933495\n",
            "Epoch: 90 | Loss: 0.009653178043663502 | Test loss: 0.02167237363755703\n",
            "Epoch: 100 | Loss: 0.006215679459273815 | Test loss: 0.014086711220443249\n",
            "Epoch: 110 | Loss: 0.002787243574857712 | Test loss: 0.005814164876937866\n",
            "Epoch: 120 | Loss: 0.0012645035749301314 | Test loss: 0.013801807537674904\n",
            "Epoch: 130 | Loss: 0.0012645035749301314 | Test loss: 0.013801807537674904\n",
            "Epoch: 140 | Loss: 0.0012645035749301314 | Test loss: 0.013801807537674904\n",
            "Epoch: 150 | Loss: 0.0012645035749301314 | Test loss: 0.013801807537674904\n",
            "Epoch: 160 | Loss: 0.0012645035749301314 | Test loss: 0.013801807537674904\n",
            "Epoch: 170 | Loss: 0.0012645035749301314 | Test loss: 0.013801807537674904\n",
            "Epoch: 180 | Loss: 0.0012645035749301314 | Test loss: 0.013801807537674904\n",
            "Epoch: 190 | Loss: 0.0012645035749301314 | Test loss: 0.013801807537674904\n"
          ]
        }
      ]
    },
    {
      "cell_type": "code",
      "source": [
        "model_1.state_dict()"
      ],
      "metadata": {
        "colab": {
          "base_uri": "https://localhost:8080/"
        },
        "id": "QavlJt2G2RvT",
        "outputId": "15302cd7-12a5-4dc1-ecee-93155fd598da"
      },
      "execution_count": 50,
      "outputs": [
        {
          "output_type": "execute_result",
          "data": {
            "text/plain": [
              "OrderedDict([('linear_layer.weight', tensor([[0.6968]])),\n",
              "             ('linear_layer.bias', tensor([0.3025]))])"
            ]
          },
          "metadata": {},
          "execution_count": 50
        }
      ]
    },
    {
      "cell_type": "code",
      "source": [
        "weight, bias"
      ],
      "metadata": {
        "colab": {
          "base_uri": "https://localhost:8080/"
        },
        "id": "Vf9UZf0K2ykG",
        "outputId": "b9157c33-edf3-4b43-b2ab-a030afa6c3bb"
      },
      "execution_count": 51,
      "outputs": [
        {
          "output_type": "execute_result",
          "data": {
            "text/plain": [
              "(0.7, 0.3)"
            ]
          },
          "metadata": {},
          "execution_count": 51
        }
      ]
    },
    {
      "cell_type": "markdown",
      "source": [
        "### 6.4 Making & Evaluating Predictions"
      ],
      "metadata": {
        "id": "uSL1PqXX3Z2J"
      }
    },
    {
      "cell_type": "code",
      "source": [
        "# Turn model into evaluation mode\n",
        "model_1.eval()\n",
        "\n",
        "# Make predictions on the test data\n",
        "with torch.inference_mode():\n",
        "  y_preds = model_1(X_test)\n",
        "y_preds"
      ],
      "metadata": {
        "colab": {
          "base_uri": "https://localhost:8080/"
        },
        "id": "jUechL6A3blv",
        "outputId": "97c5c866-afbb-4efa-83e5-5a7a126fc6c2"
      },
      "execution_count": 52,
      "outputs": [
        {
          "output_type": "execute_result",
          "data": {
            "text/plain": [
              "tensor([[0.8600],\n",
              "        [0.8739],\n",
              "        [0.8878],\n",
              "        [0.9018],\n",
              "        [0.9157],\n",
              "        [0.9296],\n",
              "        [0.9436],\n",
              "        [0.9575],\n",
              "        [0.9714],\n",
              "        [0.9854]])"
            ]
          },
          "metadata": {},
          "execution_count": 52
        }
      ]
    },
    {
      "cell_type": "code",
      "source": [
        "# Check out our model predictions visually\n",
        "plot_predictions(predictions = y_preds.cpu())"
      ],
      "metadata": {
        "colab": {
          "base_uri": "https://localhost:8080/",
          "height": 530
        },
        "id": "fGFStTor3raf",
        "outputId": "53343895-eb7d-4bc7-bd1d-8258ee05ed29"
      },
      "execution_count": 53,
      "outputs": [
        {
          "output_type": "display_data",
          "data": {
            "text/plain": [
              "<Figure size 1000x700 with 1 Axes>"
            ],
            "image/png": "[encoded data removed]"
          },
          "metadata": {}
        }
      ]
    },
    {
      "cell_type": "markdown",
      "source": [
        "### 6.5 Saving & loading a trained model"
      ],
      "metadata": {
        "id": "vewCn7TO4UTZ"
      }
    },
    {
      "cell_type": "code",
      "source": [
        "from pathlib import Path\n",
        "\n",
        "# 1. Create models directory\n",
        "\n",
        "MODEL_PATH = Path(\"models\")\n",
        "MODEL_PATH.mkdir(parents = True, exist_ok = True)\n",
        "\n",
        "# 2. Create model save path\n",
        "\n",
        "MODEL_NAME = \"01_pytorch_workflow_model_1.pth\"\n",
        "MODEL_SAVE_PATH = MODEL_PATH / MODEL_NAME\n",
        "\n",
        "# 3. Save model state dict\n",
        "\n",
        "print(f\"Saving model to : {MODEL_SAVE_PATH}\")\n",
        "torch.save(obj = model_1.state_dict(),\n",
        "           f = MODEL_SAVE_PATH)\n"
      ],
      "metadata": {
        "colab": {
          "base_uri": "https://localhost:8080/"
        },
        "id": "mYY7NEmB33LL",
        "outputId": "015f8e81-e6a1-43eb-bd29-8d7d44d4ae5b"
      },
      "execution_count": 54,
      "outputs": [
        {
          "output_type": "stream",
          "name": "stdout",
          "text": [
            "Saving model to : models/01_pytorch_workflow_model_1.pth\n"
          ]
        }
      ]
    },
    {
      "cell_type": "code",
      "source": [
        "model_1.state_dict()"
      ],
      "metadata": {
        "colab": {
          "base_uri": "https://localhost:8080/"
        },
        "id": "TEncgbeK401P",
        "outputId": "27fafc12-f5e8-4a60-ab21-107e39652665"
      },
      "execution_count": 55,
      "outputs": [
        {
          "output_type": "execute_result",
          "data": {
            "text/plain": [
              "OrderedDict([('linear_layer.weight', tensor([[0.6968]])),\n",
              "             ('linear_layer.bias', tensor([0.3025]))])"
            ]
          },
          "metadata": {},
          "execution_count": 55
        }
      ]
    },
    {
      "cell_type": "code",
      "source": [
        "# Load a PyTorch Model\n",
        "\n",
        "# Create a new instance of Linear Regression Model V2\n",
        "loaded_model_1 = LinearRegressionModelV2()\n",
        "\n",
        "# Load saved model_1 state_dict\n",
        "loaded_model_1.load_state_dict(torch.load(MODEL_SAVE_PATH))\n",
        "\n",
        "# Put the loaded model to device\n",
        "loaded_model_1.to(device)"
      ],
      "metadata": {
        "colab": {
          "base_uri": "https://localhost:8080/"
        },
        "id": "mulJiaTh5rW4",
        "outputId": "f85ff07c-430f-4491-d339-42d9de835551"
      },
      "execution_count": 56,
      "outputs": [
        {
          "output_type": "execute_result",
          "data": {
            "text/plain": [
              "LinearRegressionModelV2(\n",
              "  (linear_layer): Linear(in_features=1, out_features=1, bias=True)\n",
              ")"
            ]
          },
          "metadata": {},
          "execution_count": 56
        }
      ]
    },
    {
      "cell_type": "code",
      "source": [
        "next(loaded_model_1.parameters()).device"
      ],
      "metadata": {
        "colab": {
          "base_uri": "https://localhost:8080/"
        },
        "id": "qCb2guwM6lsw",
        "outputId": "0dea4f88-829a-470d-dedc-3aa0b6089450"
      },
      "execution_count": 57,
      "outputs": [
        {
          "output_type": "execute_result",
          "data": {
            "text/plain": [
              "device(type='cpu')"
            ]
          },
          "metadata": {},
          "execution_count": 57
        }
      ]
    },
    {
      "cell_type": "code",
      "source": [
        "loaded_model_1.state_dict()"
      ],
      "metadata": {
        "colab": {
          "base_uri": "https://localhost:8080/"
        },
        "id": "d--xpa4c6p_y",
        "outputId": "63b7e898-1d9b-4919-c35e-78365b1680c8"
      },
      "execution_count": 58,
      "outputs": [
        {
          "output_type": "execute_result",
          "data": {
            "text/plain": [
              "OrderedDict([('linear_layer.weight', tensor([[0.6968]])),\n",
              "             ('linear_layer.bias', tensor([0.3025]))])"
            ]
          },
          "metadata": {},
          "execution_count": 58
        }
      ]
    },
    {
      "cell_type": "code",
      "source": [
        "# Evaluate loaded model\n",
        "loaded_model_1.eval()\n",
        "with torch.inference_mode():\n",
        "  loaded_model_1_preds = loaded_model_1(X_test)\n",
        "y_preds == loaded_model_1_preds"
      ],
      "metadata": {
        "colab": {
          "base_uri": "https://localhost:8080/"
        },
        "id": "0oKzIg2R6ryi",
        "outputId": "cbcafb0a-fad2-4d5d-a122-29530dee9b01"
      },
      "execution_count": 59,
      "outputs": [
        {
          "output_type": "execute_result",
          "data": {
            "text/plain": [
              "tensor([[True],\n",
              "        [True],\n",
              "        [True],\n",
              "        [True],\n",
              "        [True],\n",
              "        [True],\n",
              "        [True],\n",
              "        [True],\n",
              "        [True],\n",
              "        [True]])"
            ]
          },
          "metadata": {},
          "execution_count": 59
        }
      ]
    },
    {
      "cell_type": "markdown",
      "source": [
        "## Exercises & Extra Curriculum\n",
        "\n",
        "Pytorch Deep Learning repo https://www.learnpytorch.io/01_pytorch_workflow/"
      ],
      "metadata": {
        "id": "jX2DPryA8rfH"
      }
    },
    {
      "cell_type": "code",
      "source": [],
      "metadata": {
        "id": "rDASrRGZ64cL"
      },
      "execution_count": 59,
      "outputs": []
    }
  ]
}